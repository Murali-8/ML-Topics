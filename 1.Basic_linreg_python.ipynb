{
 "cells": [
  {
   "cell_type": "markdown",
   "id": "5422a1b0",
   "metadata": {},
   "source": [
    "Linear Regression"
   ]
  },
  {
   "cell_type": "code",
   "execution_count": 90,
   "id": "06fd93ac",
   "metadata": {},
   "outputs": [],
   "source": [
    "# importing packages and libraries \n",
    "import numpy as np \n",
    "import pandas as pd\n",
    "import seaborn as sns\n",
    "import matplotlib.pyplot as plt\n",
    "from sklearn.linear_model import LinearRegression\n",
    "\n",
    "\n",
    "from sklearn.model_selection import train_test_split"
   ]
  },
  {
   "cell_type": "code",
   "execution_count": 163,
   "id": "58b9b5e6",
   "metadata": {},
   "outputs": [],
   "source": [
    "from scipy.stats import pearsonr,shapiro,kstest\n",
    "from sklearn.model_selection import train_test_split\n",
    "from statsmodels.stats.outliers_influence import variance_inflation_factor"
   ]
  },
  {
   "cell_type": "code",
   "execution_count": 92,
   "id": "2c88fcd1",
   "metadata": {},
   "outputs": [],
   "source": [
    "# Reading the data set \n",
    "df=pd.read_csv(\"Fish_dataset.csv\")"
   ]
  },
  {
   "cell_type": "code",
   "execution_count": 93,
   "id": "75aa1cb1",
   "metadata": {},
   "outputs": [
    {
     "data": {
      "text/html": [
       "<div>\n",
       "<style scoped>\n",
       "    .dataframe tbody tr th:only-of-type {\n",
       "        vertical-align: middle;\n",
       "    }\n",
       "\n",
       "    .dataframe tbody tr th {\n",
       "        vertical-align: top;\n",
       "    }\n",
       "\n",
       "    .dataframe thead th {\n",
       "        text-align: right;\n",
       "    }\n",
       "</style>\n",
       "<table border=\"1\" class=\"dataframe\">\n",
       "  <thead>\n",
       "    <tr style=\"text-align: right;\">\n",
       "      <th></th>\n",
       "      <th>Species</th>\n",
       "      <th>Weight</th>\n",
       "      <th>Length1</th>\n",
       "      <th>Length2</th>\n",
       "      <th>Length3</th>\n",
       "      <th>Height</th>\n",
       "      <th>Width</th>\n",
       "    </tr>\n",
       "  </thead>\n",
       "  <tbody>\n",
       "    <tr>\n",
       "      <th>0</th>\n",
       "      <td>Bream</td>\n",
       "      <td>242.0</td>\n",
       "      <td>23.2</td>\n",
       "      <td>25.4</td>\n",
       "      <td>30.0</td>\n",
       "      <td>11.5200</td>\n",
       "      <td>4.0200</td>\n",
       "    </tr>\n",
       "    <tr>\n",
       "      <th>1</th>\n",
       "      <td>Bream</td>\n",
       "      <td>290.0</td>\n",
       "      <td>24.0</td>\n",
       "      <td>26.3</td>\n",
       "      <td>31.2</td>\n",
       "      <td>12.4800</td>\n",
       "      <td>4.3056</td>\n",
       "    </tr>\n",
       "    <tr>\n",
       "      <th>2</th>\n",
       "      <td>Bream</td>\n",
       "      <td>340.0</td>\n",
       "      <td>23.9</td>\n",
       "      <td>26.5</td>\n",
       "      <td>31.1</td>\n",
       "      <td>12.3778</td>\n",
       "      <td>4.6961</td>\n",
       "    </tr>\n",
       "    <tr>\n",
       "      <th>3</th>\n",
       "      <td>Bream</td>\n",
       "      <td>363.0</td>\n",
       "      <td>26.3</td>\n",
       "      <td>29.0</td>\n",
       "      <td>33.5</td>\n",
       "      <td>12.7300</td>\n",
       "      <td>4.4555</td>\n",
       "    </tr>\n",
       "    <tr>\n",
       "      <th>4</th>\n",
       "      <td>Bream</td>\n",
       "      <td>430.0</td>\n",
       "      <td>26.5</td>\n",
       "      <td>29.0</td>\n",
       "      <td>34.0</td>\n",
       "      <td>12.4440</td>\n",
       "      <td>5.1340</td>\n",
       "    </tr>\n",
       "  </tbody>\n",
       "</table>\n",
       "</div>"
      ],
      "text/plain": [
       "  Species  Weight  Length1  Length2  Length3   Height   Width\n",
       "0   Bream   242.0     23.2     25.4     30.0  11.5200  4.0200\n",
       "1   Bream   290.0     24.0     26.3     31.2  12.4800  4.3056\n",
       "2   Bream   340.0     23.9     26.5     31.1  12.3778  4.6961\n",
       "3   Bream   363.0     26.3     29.0     33.5  12.7300  4.4555\n",
       "4   Bream   430.0     26.5     29.0     34.0  12.4440  5.1340"
      ]
     },
     "execution_count": 93,
     "metadata": {},
     "output_type": "execute_result"
    }
   ],
   "source": [
    "df.head()"
   ]
  },
  {
   "cell_type": "code",
   "execution_count": 94,
   "id": "d6651c46",
   "metadata": {},
   "outputs": [
    {
     "data": {
      "text/plain": [
       "Species    0\n",
       "Weight     0\n",
       "Length1    0\n",
       "Length2    0\n",
       "Length3    0\n",
       "Height     0\n",
       "Width      0\n",
       "dtype: int64"
      ]
     },
     "execution_count": 94,
     "metadata": {},
     "output_type": "execute_result"
    }
   ],
   "source": [
    "# checking for null values \n",
    "df.isnull().sum()"
   ]
  },
  {
   "cell_type": "markdown",
   "id": "e4455cb1",
   "metadata": {},
   "source": [
    "## 1. Plot a bar chart showing count of individual species?"
   ]
  },
  {
   "cell_type": "code",
   "execution_count": 95,
   "id": "4b42bb55",
   "metadata": {},
   "outputs": [
    {
     "data": {
      "text/html": [
       "<div>\n",
       "<style scoped>\n",
       "    .dataframe tbody tr th:only-of-type {\n",
       "        vertical-align: middle;\n",
       "    }\n",
       "\n",
       "    .dataframe tbody tr th {\n",
       "        vertical-align: top;\n",
       "    }\n",
       "\n",
       "    .dataframe thead th {\n",
       "        text-align: right;\n",
       "    }\n",
       "</style>\n",
       "<table border=\"1\" class=\"dataframe\">\n",
       "  <thead>\n",
       "    <tr style=\"text-align: right;\">\n",
       "      <th></th>\n",
       "      <th>Species</th>\n",
       "    </tr>\n",
       "  </thead>\n",
       "  <tbody>\n",
       "    <tr>\n",
       "      <th>Perch</th>\n",
       "      <td>56</td>\n",
       "    </tr>\n",
       "    <tr>\n",
       "      <th>Bream</th>\n",
       "      <td>35</td>\n",
       "    </tr>\n",
       "    <tr>\n",
       "      <th>Roach</th>\n",
       "      <td>20</td>\n",
       "    </tr>\n",
       "    <tr>\n",
       "      <th>Pike</th>\n",
       "      <td>17</td>\n",
       "    </tr>\n",
       "    <tr>\n",
       "      <th>Smelt</th>\n",
       "      <td>14</td>\n",
       "    </tr>\n",
       "    <tr>\n",
       "      <th>Parkki</th>\n",
       "      <td>11</td>\n",
       "    </tr>\n",
       "    <tr>\n",
       "      <th>Whitefish</th>\n",
       "      <td>6</td>\n",
       "    </tr>\n",
       "  </tbody>\n",
       "</table>\n",
       "</div>"
      ],
      "text/plain": [
       "           Species\n",
       "Perch           56\n",
       "Bream           35\n",
       "Roach           20\n",
       "Pike            17\n",
       "Smelt           14\n",
       "Parkki          11\n",
       "Whitefish        6"
      ]
     },
     "execution_count": 95,
     "metadata": {},
     "output_type": "execute_result"
    }
   ],
   "source": [
    "# Finding the counts of the species feature \n",
    "data=pd.DataFrame(df['Species'].value_counts())\n",
    "data"
   ]
  },
  {
   "cell_type": "code",
   "execution_count": 96,
   "id": "3873d6d8",
   "metadata": {},
   "outputs": [
    {
     "data": {
      "text/plain": [
       "<AxesSubplot:xlabel='Species Name', ylabel='Species'>"
      ]
     },
     "execution_count": 96,
     "metadata": {},
     "output_type": "execute_result"
    },
    {
     "data": {
      "image/png": "[encoded data removed]",
      "text/plain": [
       "<Figure size 432x288 with 1 Axes>"
      ]
     },
     "metadata": {
      "needs_background": "light"
     },
     "output_type": "display_data"
    }
   ],
   "source": [
    "# bar chart \n",
    "plt.xlabel('Species Name')\n",
    "plt.ylabel('Species Count')\n",
    "sns.barplot(data=data,x=data.index,y=data.Species)"
   ]
  },
  {
   "cell_type": "code",
   "execution_count": null,
   "id": "a85a13dc",
   "metadata": {},
   "outputs": [],
   "source": []
  },
  {
   "cell_type": "markdown",
   "id": "ed621808",
   "metadata": {},
   "source": [
    "## Q.2 Identify outliers and remove if any?"
   ]
  },
  {
   "cell_type": "code",
   "execution_count": 97,
   "id": "1ea4c563",
   "metadata": {},
   "outputs": [
    {
     "data": {
      "text/html": [
       "<div>\n",
       "<style scoped>\n",
       "    .dataframe tbody tr th:only-of-type {\n",
       "        vertical-align: middle;\n",
       "    }\n",
       "\n",
       "    .dataframe tbody tr th {\n",
       "        vertical-align: top;\n",
       "    }\n",
       "\n",
       "    .dataframe thead th {\n",
       "        text-align: right;\n",
       "    }\n",
       "</style>\n",
       "<table border=\"1\" class=\"dataframe\">\n",
       "  <thead>\n",
       "    <tr style=\"text-align: right;\">\n",
       "      <th></th>\n",
       "      <th>Species</th>\n",
       "      <th>Weight</th>\n",
       "      <th>Length1</th>\n",
       "      <th>Length2</th>\n",
       "      <th>Length3</th>\n",
       "      <th>Height</th>\n",
       "      <th>Width</th>\n",
       "    </tr>\n",
       "  </thead>\n",
       "  <tbody>\n",
       "    <tr>\n",
       "      <th>0</th>\n",
       "      <td>Bream</td>\n",
       "      <td>242.0</td>\n",
       "      <td>23.2</td>\n",
       "      <td>25.4</td>\n",
       "      <td>30.0</td>\n",
       "      <td>11.5200</td>\n",
       "      <td>4.0200</td>\n",
       "    </tr>\n",
       "    <tr>\n",
       "      <th>1</th>\n",
       "      <td>Bream</td>\n",
       "      <td>290.0</td>\n",
       "      <td>24.0</td>\n",
       "      <td>26.3</td>\n",
       "      <td>31.2</td>\n",
       "      <td>12.4800</td>\n",
       "      <td>4.3056</td>\n",
       "    </tr>\n",
       "    <tr>\n",
       "      <th>2</th>\n",
       "      <td>Bream</td>\n",
       "      <td>340.0</td>\n",
       "      <td>23.9</td>\n",
       "      <td>26.5</td>\n",
       "      <td>31.1</td>\n",
       "      <td>12.3778</td>\n",
       "      <td>4.6961</td>\n",
       "    </tr>\n",
       "    <tr>\n",
       "      <th>3</th>\n",
       "      <td>Bream</td>\n",
       "      <td>363.0</td>\n",
       "      <td>26.3</td>\n",
       "      <td>29.0</td>\n",
       "      <td>33.5</td>\n",
       "      <td>12.7300</td>\n",
       "      <td>4.4555</td>\n",
       "    </tr>\n",
       "    <tr>\n",
       "      <th>4</th>\n",
       "      <td>Bream</td>\n",
       "      <td>430.0</td>\n",
       "      <td>26.5</td>\n",
       "      <td>29.0</td>\n",
       "      <td>34.0</td>\n",
       "      <td>12.4440</td>\n",
       "      <td>5.1340</td>\n",
       "    </tr>\n",
       "    <tr>\n",
       "      <th>...</th>\n",
       "      <td>...</td>\n",
       "      <td>...</td>\n",
       "      <td>...</td>\n",
       "      <td>...</td>\n",
       "      <td>...</td>\n",
       "      <td>...</td>\n",
       "      <td>...</td>\n",
       "    </tr>\n",
       "    <tr>\n",
       "      <th>154</th>\n",
       "      <td>Smelt</td>\n",
       "      <td>12.2</td>\n",
       "      <td>11.5</td>\n",
       "      <td>12.2</td>\n",
       "      <td>13.4</td>\n",
       "      <td>2.0904</td>\n",
       "      <td>1.3936</td>\n",
       "    </tr>\n",
       "    <tr>\n",
       "      <th>155</th>\n",
       "      <td>Smelt</td>\n",
       "      <td>13.4</td>\n",
       "      <td>11.7</td>\n",
       "      <td>12.4</td>\n",
       "      <td>13.5</td>\n",
       "      <td>2.4300</td>\n",
       "      <td>1.2690</td>\n",
       "    </tr>\n",
       "    <tr>\n",
       "      <th>156</th>\n",
       "      <td>Smelt</td>\n",
       "      <td>12.2</td>\n",
       "      <td>12.1</td>\n",
       "      <td>13.0</td>\n",
       "      <td>13.8</td>\n",
       "      <td>2.2770</td>\n",
       "      <td>1.2558</td>\n",
       "    </tr>\n",
       "    <tr>\n",
       "      <th>157</th>\n",
       "      <td>Smelt</td>\n",
       "      <td>19.7</td>\n",
       "      <td>13.2</td>\n",
       "      <td>14.3</td>\n",
       "      <td>15.2</td>\n",
       "      <td>2.8728</td>\n",
       "      <td>2.0672</td>\n",
       "    </tr>\n",
       "    <tr>\n",
       "      <th>158</th>\n",
       "      <td>Smelt</td>\n",
       "      <td>19.9</td>\n",
       "      <td>13.8</td>\n",
       "      <td>15.0</td>\n",
       "      <td>16.2</td>\n",
       "      <td>2.9322</td>\n",
       "      <td>1.8792</td>\n",
       "    </tr>\n",
       "  </tbody>\n",
       "</table>\n",
       "<p>158 rows × 7 columns</p>\n",
       "</div>"
      ],
      "text/plain": [
       "    Species  Weight  Length1  Length2  Length3   Height   Width\n",
       "0     Bream   242.0     23.2     25.4     30.0  11.5200  4.0200\n",
       "1     Bream   290.0     24.0     26.3     31.2  12.4800  4.3056\n",
       "2     Bream   340.0     23.9     26.5     31.1  12.3778  4.6961\n",
       "3     Bream   363.0     26.3     29.0     33.5  12.7300  4.4555\n",
       "4     Bream   430.0     26.5     29.0     34.0  12.4440  5.1340\n",
       "..      ...     ...      ...      ...      ...      ...     ...\n",
       "154   Smelt    12.2     11.5     12.2     13.4   2.0904  1.3936\n",
       "155   Smelt    13.4     11.7     12.4     13.5   2.4300  1.2690\n",
       "156   Smelt    12.2     12.1     13.0     13.8   2.2770  1.2558\n",
       "157   Smelt    19.7     13.2     14.3     15.2   2.8728  2.0672\n",
       "158   Smelt    19.9     13.8     15.0     16.2   2.9322  1.8792\n",
       "\n",
       "[158 rows x 7 columns]"
      ]
     },
     "execution_count": 97,
     "metadata": {},
     "output_type": "execute_result"
    }
   ],
   "source": [
    "# removing the feature record with vales having zeros because weight cannot be zero practically.\n",
    "df.drop(df[df['Weight']==0].index)"
   ]
  },
  {
   "cell_type": "markdown",
   "id": "90c449eb",
   "metadata": {},
   "source": [
    "### Finding the outliers"
   ]
  },
  {
   "cell_type": "code",
   "execution_count": 98,
   "id": "d95dbea6",
   "metadata": {
    "scrolled": true
   },
   "outputs": [
    {
     "data": {
      "text/plain": [
       "<AxesSubplot:ylabel='Weight'>"
      ]
     },
     "execution_count": 98,
     "metadata": {},
     "output_type": "execute_result"
    },
    {
     "data": {
      "image/png": "[encoded data removed]",
      "text/plain": [
       "<Figure size 432x288 with 1 Axes>"
      ]
     },
     "metadata": {
      "needs_background": "light"
     },
     "output_type": "display_data"
    }
   ],
   "source": [
    "#weight has outliers since its our dependent variable we should handle the outliers\n",
    "sns.boxplot(data=df,y='Weight') "
   ]
  },
  {
   "cell_type": "code",
   "execution_count": 99,
   "id": "6e62c12b",
   "metadata": {},
   "outputs": [],
   "source": [
    "# since the outliers values are above the range of 1250 we are removing it with a condition \n",
    "df.drop(df.index[df.Weight>1250],axis=0,inplace=True)"
   ]
  },
  {
   "cell_type": "code",
   "execution_count": 153,
   "id": "29b6a6f0",
   "metadata": {},
   "outputs": [
    {
     "data": {
      "text/plain": [
       "<AxesSubplot:ylabel='Weight'>"
      ]
     },
     "execution_count": 153,
     "metadata": {},
     "output_type": "execute_result"
    },
    {
     "data": {
      "image/png": "[encoded data removed]",
      "text/plain": [
       "<Figure size 432x288 with 1 Axes>"
      ]
     },
     "metadata": {
      "needs_background": "light"
     },
     "output_type": "display_data"
    }
   ],
   "source": [
    "sns.boxplot(data=df,y='Weight')"
   ]
  },
  {
   "cell_type": "code",
   "execution_count": null,
   "id": "91794c4f",
   "metadata": {},
   "outputs": [],
   "source": [
    "#other dependent variables are also having outliers but we are not removing it since it will affect the dependent variable."
   ]
  },
  {
   "cell_type": "code",
   "execution_count": 101,
   "id": "a738c474",
   "metadata": {},
   "outputs": [
    {
     "name": "stderr",
     "output_type": "stream",
     "text": [
      "C:\\Users\\HP\\anaconda3\\lib\\site-packages\\seaborn\\_decorators.py:36: FutureWarning: Pass the following variable as a keyword arg: x. From version 0.12, the only valid positional argument will be `data`, and passing other arguments without an explicit keyword will result in an error or misinterpretation.\n",
      "  warnings.warn(\n"
     ]
    },
    {
     "data": {
      "text/plain": [
       "<AxesSubplot:xlabel='Length1'>"
      ]
     },
     "execution_count": 101,
     "metadata": {},
     "output_type": "execute_result"
    },
    {
     "data": {
      "image/png": "[encoded data removed]",
      "text/plain": [
       "<Figure size 432x288 with 1 Axes>"
      ]
     },
     "metadata": {
      "needs_background": "light"
     },
     "output_type": "display_data"
    }
   ],
   "source": [
    "sns.boxplot(df.Length1)"
   ]
  },
  {
   "cell_type": "code",
   "execution_count": 102,
   "id": "c3012199",
   "metadata": {},
   "outputs": [
    {
     "name": "stderr",
     "output_type": "stream",
     "text": [
      "C:\\Users\\HP\\anaconda3\\lib\\site-packages\\seaborn\\_decorators.py:36: FutureWarning: Pass the following variable as a keyword arg: x. From version 0.12, the only valid positional argument will be `data`, and passing other arguments without an explicit keyword will result in an error or misinterpretation.\n",
      "  warnings.warn(\n"
     ]
    },
    {
     "data": {
      "text/plain": [
       "<AxesSubplot:xlabel='Length2'>"
      ]
     },
     "execution_count": 102,
     "metadata": {},
     "output_type": "execute_result"
    },
    {
     "data": {
      "image/png": "[encoded data removed]",
      "text/plain": [
       "<Figure size 432x288 with 1 Axes>"
      ]
     },
     "metadata": {
      "needs_background": "light"
     },
     "output_type": "display_data"
    }
   ],
   "source": [
    "sns.boxplot(df.Length2)"
   ]
  },
  {
   "cell_type": "code",
   "execution_count": 103,
   "id": "4f3232c4",
   "metadata": {},
   "outputs": [
    {
     "name": "stderr",
     "output_type": "stream",
     "text": [
      "C:\\Users\\HP\\anaconda3\\lib\\site-packages\\seaborn\\_decorators.py:36: FutureWarning: Pass the following variable as a keyword arg: x. From version 0.12, the only valid positional argument will be `data`, and passing other arguments without an explicit keyword will result in an error or misinterpretation.\n",
      "  warnings.warn(\n"
     ]
    },
    {
     "data": {
      "text/plain": [
       "<AxesSubplot:xlabel='Length3'>"
      ]
     },
     "execution_count": 103,
     "metadata": {},
     "output_type": "execute_result"
    },
    {
     "data": {
      "image/png": "[encoded data removed]",
      "text/plain": [
       "<Figure size 432x288 with 1 Axes>"
      ]
     },
     "metadata": {
      "needs_background": "light"
     },
     "output_type": "display_data"
    }
   ],
   "source": [
    "sns.boxplot(df.Length3)"
   ]
  },
  {
   "cell_type": "code",
   "execution_count": 104,
   "id": "b23b2f27",
   "metadata": {},
   "outputs": [
    {
     "name": "stderr",
     "output_type": "stream",
     "text": [
      "C:\\Users\\HP\\anaconda3\\lib\\site-packages\\seaborn\\_decorators.py:36: FutureWarning: Pass the following variable as a keyword arg: x. From version 0.12, the only valid positional argument will be `data`, and passing other arguments without an explicit keyword will result in an error or misinterpretation.\n",
      "  warnings.warn(\n"
     ]
    },
    {
     "data": {
      "text/plain": [
       "<AxesSubplot:xlabel='Height'>"
      ]
     },
     "execution_count": 104,
     "metadata": {},
     "output_type": "execute_result"
    },
    {
     "data": {
      "image/png": "[encoded data removed]",
      "text/plain": [
       "<Figure size 432x288 with 1 Axes>"
      ]
     },
     "metadata": {
      "needs_background": "light"
     },
     "output_type": "display_data"
    }
   ],
   "source": [
    "sns.boxplot(df.Height)\n",
    "# no outliers are there"
   ]
  },
  {
   "cell_type": "code",
   "execution_count": 188,
   "id": "32b0265c",
   "metadata": {},
   "outputs": [
    {
     "name": "stderr",
     "output_type": "stream",
     "text": [
      "C:\\Users\\HP\\anaconda3\\lib\\site-packages\\seaborn\\_decorators.py:36: FutureWarning: Pass the following variable as a keyword arg: x. From version 0.12, the only valid positional argument will be `data`, and passing other arguments without an explicit keyword will result in an error or misinterpretation.\n",
      "  warnings.warn(\n"
     ]
    },
    {
     "data": {
      "text/plain": [
       "<AxesSubplot:xlabel='Width'>"
      ]
     },
     "execution_count": 188,
     "metadata": {},
     "output_type": "execute_result"
    },
    {
     "data": {
      "image/png": "[encoded data removed]",
      "text/plain": [
       "<Figure size 432x288 with 1 Axes>"
      ]
     },
     "metadata": {
      "needs_background": "light"
     },
     "output_type": "display_data"
    }
   ],
   "source": [
    "sns.boxplot(df.Width)\n",
    "# no outliers are there after removing it"
   ]
  },
  {
   "cell_type": "code",
   "execution_count": 106,
   "id": "033ad5ce",
   "metadata": {},
   "outputs": [
    {
     "data": {
      "text/html": [
       "<div>\n",
       "<style scoped>\n",
       "    .dataframe tbody tr th:only-of-type {\n",
       "        vertical-align: middle;\n",
       "    }\n",
       "\n",
       "    .dataframe tbody tr th {\n",
       "        vertical-align: top;\n",
       "    }\n",
       "\n",
       "    .dataframe thead th {\n",
       "        text-align: right;\n",
       "    }\n",
       "</style>\n",
       "<table border=\"1\" class=\"dataframe\">\n",
       "  <thead>\n",
       "    <tr style=\"text-align: right;\">\n",
       "      <th></th>\n",
       "      <th>Weight</th>\n",
       "      <th>Length1</th>\n",
       "      <th>Length2</th>\n",
       "      <th>Length3</th>\n",
       "      <th>Height</th>\n",
       "      <th>Width</th>\n",
       "    </tr>\n",
       "  </thead>\n",
       "  <tbody>\n",
       "    <tr>\n",
       "      <th>count</th>\n",
       "      <td>156.000000</td>\n",
       "      <td>156.000000</td>\n",
       "      <td>156.000000</td>\n",
       "      <td>156.000000</td>\n",
       "      <td>156.000000</td>\n",
       "      <td>156.000000</td>\n",
       "    </tr>\n",
       "    <tr>\n",
       "      <th>mean</th>\n",
       "      <td>375.217308</td>\n",
       "      <td>25.655769</td>\n",
       "      <td>27.786538</td>\n",
       "      <td>30.571154</td>\n",
       "      <td>8.951128</td>\n",
       "      <td>4.375719</td>\n",
       "    </tr>\n",
       "    <tr>\n",
       "      <th>std</th>\n",
       "      <td>319.546978</td>\n",
       "      <td>9.119630</td>\n",
       "      <td>9.792651</td>\n",
       "      <td>10.695359</td>\n",
       "      <td>4.324325</td>\n",
       "      <td>1.672188</td>\n",
       "    </tr>\n",
       "    <tr>\n",
       "      <th>min</th>\n",
       "      <td>0.000000</td>\n",
       "      <td>7.500000</td>\n",
       "      <td>8.400000</td>\n",
       "      <td>8.800000</td>\n",
       "      <td>1.728400</td>\n",
       "      <td>1.047600</td>\n",
       "    </tr>\n",
       "    <tr>\n",
       "      <th>25%</th>\n",
       "      <td>120.000000</td>\n",
       "      <td>19.000000</td>\n",
       "      <td>21.000000</td>\n",
       "      <td>23.025000</td>\n",
       "      <td>5.931675</td>\n",
       "      <td>3.369600</td>\n",
       "    </tr>\n",
       "    <tr>\n",
       "      <th>50%</th>\n",
       "      <td>271.000000</td>\n",
       "      <td>25.000000</td>\n",
       "      <td>26.750000</td>\n",
       "      <td>29.250000</td>\n",
       "      <td>7.647800</td>\n",
       "      <td>4.243300</td>\n",
       "    </tr>\n",
       "    <tr>\n",
       "      <th>75%</th>\n",
       "      <td>612.500000</td>\n",
       "      <td>32.125000</td>\n",
       "      <td>35.000000</td>\n",
       "      <td>39.425000</td>\n",
       "      <td>12.378550</td>\n",
       "      <td>5.424375</td>\n",
       "    </tr>\n",
       "    <tr>\n",
       "      <th>max</th>\n",
       "      <td>1250.000000</td>\n",
       "      <td>52.000000</td>\n",
       "      <td>56.000000</td>\n",
       "      <td>59.700000</td>\n",
       "      <td>18.957000</td>\n",
       "      <td>8.142000</td>\n",
       "    </tr>\n",
       "  </tbody>\n",
       "</table>\n",
       "</div>"
      ],
      "text/plain": [
       "            Weight     Length1     Length2     Length3      Height       Width\n",
       "count   156.000000  156.000000  156.000000  156.000000  156.000000  156.000000\n",
       "mean    375.217308   25.655769   27.786538   30.571154    8.951128    4.375719\n",
       "std     319.546978    9.119630    9.792651   10.695359    4.324325    1.672188\n",
       "min       0.000000    7.500000    8.400000    8.800000    1.728400    1.047600\n",
       "25%     120.000000   19.000000   21.000000   23.025000    5.931675    3.369600\n",
       "50%     271.000000   25.000000   26.750000   29.250000    7.647800    4.243300\n",
       "75%     612.500000   32.125000   35.000000   39.425000   12.378550    5.424375\n",
       "max    1250.000000   52.000000   56.000000   59.700000   18.957000    8.142000"
      ]
     },
     "execution_count": 106,
     "metadata": {},
     "output_type": "execute_result"
    }
   ],
   "source": [
    "df.describe()# "
   ]
  },
  {
   "cell_type": "code",
   "execution_count": 107,
   "id": "7470db32",
   "metadata": {},
   "outputs": [
    {
     "data": {
      "text/html": [
       "<div>\n",
       "<style scoped>\n",
       "    .dataframe tbody tr th:only-of-type {\n",
       "        vertical-align: middle;\n",
       "    }\n",
       "\n",
       "    .dataframe tbody tr th {\n",
       "        vertical-align: top;\n",
       "    }\n",
       "\n",
       "    .dataframe thead th {\n",
       "        text-align: right;\n",
       "    }\n",
       "</style>\n",
       "<table border=\"1\" class=\"dataframe\">\n",
       "  <thead>\n",
       "    <tr style=\"text-align: right;\">\n",
       "      <th></th>\n",
       "      <th>Species</th>\n",
       "      <th>Weight</th>\n",
       "      <th>Length1</th>\n",
       "      <th>Length2</th>\n",
       "      <th>Length3</th>\n",
       "      <th>Height</th>\n",
       "      <th>Width</th>\n",
       "    </tr>\n",
       "  </thead>\n",
       "  <tbody>\n",
       "    <tr>\n",
       "      <th>0</th>\n",
       "      <td>Bream</td>\n",
       "      <td>242.0</td>\n",
       "      <td>23.2</td>\n",
       "      <td>25.4</td>\n",
       "      <td>30.0</td>\n",
       "      <td>11.5200</td>\n",
       "      <td>4.0200</td>\n",
       "    </tr>\n",
       "    <tr>\n",
       "      <th>1</th>\n",
       "      <td>Bream</td>\n",
       "      <td>290.0</td>\n",
       "      <td>24.0</td>\n",
       "      <td>26.3</td>\n",
       "      <td>31.2</td>\n",
       "      <td>12.4800</td>\n",
       "      <td>4.3056</td>\n",
       "    </tr>\n",
       "    <tr>\n",
       "      <th>2</th>\n",
       "      <td>Bream</td>\n",
       "      <td>340.0</td>\n",
       "      <td>23.9</td>\n",
       "      <td>26.5</td>\n",
       "      <td>31.1</td>\n",
       "      <td>12.3778</td>\n",
       "      <td>4.6961</td>\n",
       "    </tr>\n",
       "    <tr>\n",
       "      <th>3</th>\n",
       "      <td>Bream</td>\n",
       "      <td>363.0</td>\n",
       "      <td>26.3</td>\n",
       "      <td>29.0</td>\n",
       "      <td>33.5</td>\n",
       "      <td>12.7300</td>\n",
       "      <td>4.4555</td>\n",
       "    </tr>\n",
       "    <tr>\n",
       "      <th>4</th>\n",
       "      <td>Bream</td>\n",
       "      <td>430.0</td>\n",
       "      <td>26.5</td>\n",
       "      <td>29.0</td>\n",
       "      <td>34.0</td>\n",
       "      <td>12.4440</td>\n",
       "      <td>5.1340</td>\n",
       "    </tr>\n",
       "    <tr>\n",
       "      <th>...</th>\n",
       "      <td>...</td>\n",
       "      <td>...</td>\n",
       "      <td>...</td>\n",
       "      <td>...</td>\n",
       "      <td>...</td>\n",
       "      <td>...</td>\n",
       "      <td>...</td>\n",
       "    </tr>\n",
       "    <tr>\n",
       "      <th>154</th>\n",
       "      <td>Smelt</td>\n",
       "      <td>12.2</td>\n",
       "      <td>11.5</td>\n",
       "      <td>12.2</td>\n",
       "      <td>13.4</td>\n",
       "      <td>2.0904</td>\n",
       "      <td>1.3936</td>\n",
       "    </tr>\n",
       "    <tr>\n",
       "      <th>155</th>\n",
       "      <td>Smelt</td>\n",
       "      <td>13.4</td>\n",
       "      <td>11.7</td>\n",
       "      <td>12.4</td>\n",
       "      <td>13.5</td>\n",
       "      <td>2.4300</td>\n",
       "      <td>1.2690</td>\n",
       "    </tr>\n",
       "    <tr>\n",
       "      <th>156</th>\n",
       "      <td>Smelt</td>\n",
       "      <td>12.2</td>\n",
       "      <td>12.1</td>\n",
       "      <td>13.0</td>\n",
       "      <td>13.8</td>\n",
       "      <td>2.2770</td>\n",
       "      <td>1.2558</td>\n",
       "    </tr>\n",
       "    <tr>\n",
       "      <th>157</th>\n",
       "      <td>Smelt</td>\n",
       "      <td>19.7</td>\n",
       "      <td>13.2</td>\n",
       "      <td>14.3</td>\n",
       "      <td>15.2</td>\n",
       "      <td>2.8728</td>\n",
       "      <td>2.0672</td>\n",
       "    </tr>\n",
       "    <tr>\n",
       "      <th>158</th>\n",
       "      <td>Smelt</td>\n",
       "      <td>19.9</td>\n",
       "      <td>13.8</td>\n",
       "      <td>15.0</td>\n",
       "      <td>16.2</td>\n",
       "      <td>2.9322</td>\n",
       "      <td>1.8792</td>\n",
       "    </tr>\n",
       "  </tbody>\n",
       "</table>\n",
       "<p>156 rows × 7 columns</p>\n",
       "</div>"
      ],
      "text/plain": [
       "    Species  Weight  Length1  Length2  Length3   Height   Width\n",
       "0     Bream   242.0     23.2     25.4     30.0  11.5200  4.0200\n",
       "1     Bream   290.0     24.0     26.3     31.2  12.4800  4.3056\n",
       "2     Bream   340.0     23.9     26.5     31.1  12.3778  4.6961\n",
       "3     Bream   363.0     26.3     29.0     33.5  12.7300  4.4555\n",
       "4     Bream   430.0     26.5     29.0     34.0  12.4440  5.1340\n",
       "..      ...     ...      ...      ...      ...      ...     ...\n",
       "154   Smelt    12.2     11.5     12.2     13.4   2.0904  1.3936\n",
       "155   Smelt    13.4     11.7     12.4     13.5   2.4300  1.2690\n",
       "156   Smelt    12.2     12.1     13.0     13.8   2.2770  1.2558\n",
       "157   Smelt    19.7     13.2     14.3     15.2   2.8728  2.0672\n",
       "158   Smelt    19.9     13.8     15.0     16.2   2.9322  1.8792\n",
       "\n",
       "[156 rows x 7 columns]"
      ]
     },
     "execution_count": 107,
     "metadata": {},
     "output_type": "execute_result"
    }
   ],
   "source": [
    "df"
   ]
  },
  {
   "cell_type": "code",
   "execution_count": 154,
   "id": "18f26dc4",
   "metadata": {},
   "outputs": [],
   "source": [
    "# Tyoe casting the feature into categorical type"
   ]
  },
  {
   "cell_type": "code",
   "execution_count": 109,
   "id": "efd4c8c8",
   "metadata": {},
   "outputs": [],
   "source": [
    "df.Species=df.Species.astype('category')"
   ]
  },
  {
   "cell_type": "code",
   "execution_count": 110,
   "id": "4b21f760",
   "metadata": {},
   "outputs": [
    {
     "data": {
      "text/plain": [
       "Species    0\n",
       "Weight     0\n",
       "Length1    0\n",
       "Length2    0\n",
       "Length3    0\n",
       "Height     0\n",
       "Width      0\n",
       "dtype: int64"
      ]
     },
     "execution_count": 110,
     "metadata": {},
     "output_type": "execute_result"
    }
   ],
   "source": [
    "df.isna().sum()"
   ]
  },
  {
   "cell_type": "markdown",
   "id": "edc6bd3a",
   "metadata": {},
   "source": [
    "# EDA       "
   ]
  },
  {
   "cell_type": "markdown",
   "id": "d9d32366",
   "metadata": {},
   "source": [
    "# 3.Build a regression model and print regression equation?"
   ]
  },
  {
   "cell_type": "code",
   "execution_count": null,
   "id": "1695575c",
   "metadata": {},
   "outputs": [],
   "source": [
    "# seperating the dependent and independent variable"
   ]
  },
  {
   "cell_type": "code",
   "execution_count": 155,
   "id": "a25b0b59",
   "metadata": {},
   "outputs": [
    {
     "data": {
      "text/plain": [
       "0      242.0\n",
       "1      290.0\n",
       "2      340.0\n",
       "3      363.0\n",
       "4      430.0\n",
       "       ...  \n",
       "154     12.2\n",
       "155     13.4\n",
       "156     12.2\n",
       "157     19.7\n",
       "158     19.9\n",
       "Name: Weight, Length: 156, dtype: float64"
      ]
     },
     "execution_count": 155,
     "metadata": {},
     "output_type": "execute_result"
    }
   ],
   "source": [
    "# dependent variable here its weight feature \n",
    "DEP=df.iloc[:,1]\n",
    "DEP"
   ]
  },
  {
   "cell_type": "code",
   "execution_count": 112,
   "id": "41d2dd98",
   "metadata": {},
   "outputs": [
    {
     "data": {
      "text/html": [
       "<div>\n",
       "<style scoped>\n",
       "    .dataframe tbody tr th:only-of-type {\n",
       "        vertical-align: middle;\n",
       "    }\n",
       "\n",
       "    .dataframe tbody tr th {\n",
       "        vertical-align: top;\n",
       "    }\n",
       "\n",
       "    .dataframe thead th {\n",
       "        text-align: right;\n",
       "    }\n",
       "</style>\n",
       "<table border=\"1\" class=\"dataframe\">\n",
       "  <thead>\n",
       "    <tr style=\"text-align: right;\">\n",
       "      <th></th>\n",
       "      <th>Species</th>\n",
       "      <th>Length1</th>\n",
       "      <th>Length2</th>\n",
       "      <th>Length3</th>\n",
       "      <th>Height</th>\n",
       "      <th>Width</th>\n",
       "    </tr>\n",
       "  </thead>\n",
       "  <tbody>\n",
       "    <tr>\n",
       "      <th>0</th>\n",
       "      <td>Bream</td>\n",
       "      <td>23.2</td>\n",
       "      <td>25.4</td>\n",
       "      <td>30.0</td>\n",
       "      <td>11.5200</td>\n",
       "      <td>4.0200</td>\n",
       "    </tr>\n",
       "    <tr>\n",
       "      <th>1</th>\n",
       "      <td>Bream</td>\n",
       "      <td>24.0</td>\n",
       "      <td>26.3</td>\n",
       "      <td>31.2</td>\n",
       "      <td>12.4800</td>\n",
       "      <td>4.3056</td>\n",
       "    </tr>\n",
       "    <tr>\n",
       "      <th>2</th>\n",
       "      <td>Bream</td>\n",
       "      <td>23.9</td>\n",
       "      <td>26.5</td>\n",
       "      <td>31.1</td>\n",
       "      <td>12.3778</td>\n",
       "      <td>4.6961</td>\n",
       "    </tr>\n",
       "    <tr>\n",
       "      <th>3</th>\n",
       "      <td>Bream</td>\n",
       "      <td>26.3</td>\n",
       "      <td>29.0</td>\n",
       "      <td>33.5</td>\n",
       "      <td>12.7300</td>\n",
       "      <td>4.4555</td>\n",
       "    </tr>\n",
       "    <tr>\n",
       "      <th>4</th>\n",
       "      <td>Bream</td>\n",
       "      <td>26.5</td>\n",
       "      <td>29.0</td>\n",
       "      <td>34.0</td>\n",
       "      <td>12.4440</td>\n",
       "      <td>5.1340</td>\n",
       "    </tr>\n",
       "    <tr>\n",
       "      <th>...</th>\n",
       "      <td>...</td>\n",
       "      <td>...</td>\n",
       "      <td>...</td>\n",
       "      <td>...</td>\n",
       "      <td>...</td>\n",
       "      <td>...</td>\n",
       "    </tr>\n",
       "    <tr>\n",
       "      <th>154</th>\n",
       "      <td>Smelt</td>\n",
       "      <td>11.5</td>\n",
       "      <td>12.2</td>\n",
       "      <td>13.4</td>\n",
       "      <td>2.0904</td>\n",
       "      <td>1.3936</td>\n",
       "    </tr>\n",
       "    <tr>\n",
       "      <th>155</th>\n",
       "      <td>Smelt</td>\n",
       "      <td>11.7</td>\n",
       "      <td>12.4</td>\n",
       "      <td>13.5</td>\n",
       "      <td>2.4300</td>\n",
       "      <td>1.2690</td>\n",
       "    </tr>\n",
       "    <tr>\n",
       "      <th>156</th>\n",
       "      <td>Smelt</td>\n",
       "      <td>12.1</td>\n",
       "      <td>13.0</td>\n",
       "      <td>13.8</td>\n",
       "      <td>2.2770</td>\n",
       "      <td>1.2558</td>\n",
       "    </tr>\n",
       "    <tr>\n",
       "      <th>157</th>\n",
       "      <td>Smelt</td>\n",
       "      <td>13.2</td>\n",
       "      <td>14.3</td>\n",
       "      <td>15.2</td>\n",
       "      <td>2.8728</td>\n",
       "      <td>2.0672</td>\n",
       "    </tr>\n",
       "    <tr>\n",
       "      <th>158</th>\n",
       "      <td>Smelt</td>\n",
       "      <td>13.8</td>\n",
       "      <td>15.0</td>\n",
       "      <td>16.2</td>\n",
       "      <td>2.9322</td>\n",
       "      <td>1.8792</td>\n",
       "    </tr>\n",
       "  </tbody>\n",
       "</table>\n",
       "<p>156 rows × 6 columns</p>\n",
       "</div>"
      ],
      "text/plain": [
       "    Species  Length1  Length2  Length3   Height   Width\n",
       "0     Bream     23.2     25.4     30.0  11.5200  4.0200\n",
       "1     Bream     24.0     26.3     31.2  12.4800  4.3056\n",
       "2     Bream     23.9     26.5     31.1  12.3778  4.6961\n",
       "3     Bream     26.3     29.0     33.5  12.7300  4.4555\n",
       "4     Bream     26.5     29.0     34.0  12.4440  5.1340\n",
       "..      ...      ...      ...      ...      ...     ...\n",
       "154   Smelt     11.5     12.2     13.4   2.0904  1.3936\n",
       "155   Smelt     11.7     12.4     13.5   2.4300  1.2690\n",
       "156   Smelt     12.1     13.0     13.8   2.2770  1.2558\n",
       "157   Smelt     13.2     14.3     15.2   2.8728  2.0672\n",
       "158   Smelt     13.8     15.0     16.2   2.9322  1.8792\n",
       "\n",
       "[156 rows x 6 columns]"
      ]
     },
     "execution_count": 112,
     "metadata": {},
     "output_type": "execute_result"
    }
   ],
   "source": [
    "# other features are independent feature\n",
    "IDV=df[['Species','Length1','Length2','Length3','Height','Width']]\n",
    "IDV"
   ]
  },
  {
   "cell_type": "code",
   "execution_count": 113,
   "id": "baff5a90",
   "metadata": {},
   "outputs": [
    {
     "data": {
      "text/html": [
       "<div>\n",
       "<style scoped>\n",
       "    .dataframe tbody tr th:only-of-type {\n",
       "        vertical-align: middle;\n",
       "    }\n",
       "\n",
       "    .dataframe tbody tr th {\n",
       "        vertical-align: top;\n",
       "    }\n",
       "\n",
       "    .dataframe thead th {\n",
       "        text-align: right;\n",
       "    }\n",
       "</style>\n",
       "<table border=\"1\" class=\"dataframe\">\n",
       "  <thead>\n",
       "    <tr style=\"text-align: right;\">\n",
       "      <th></th>\n",
       "      <th>Species</th>\n",
       "    </tr>\n",
       "  </thead>\n",
       "  <tbody>\n",
       "    <tr>\n",
       "      <th>0</th>\n",
       "      <td>Bream</td>\n",
       "    </tr>\n",
       "    <tr>\n",
       "      <th>1</th>\n",
       "      <td>Bream</td>\n",
       "    </tr>\n",
       "    <tr>\n",
       "      <th>2</th>\n",
       "      <td>Bream</td>\n",
       "    </tr>\n",
       "    <tr>\n",
       "      <th>3</th>\n",
       "      <td>Bream</td>\n",
       "    </tr>\n",
       "    <tr>\n",
       "      <th>4</th>\n",
       "      <td>Bream</td>\n",
       "    </tr>\n",
       "    <tr>\n",
       "      <th>...</th>\n",
       "      <td>...</td>\n",
       "    </tr>\n",
       "    <tr>\n",
       "      <th>154</th>\n",
       "      <td>Smelt</td>\n",
       "    </tr>\n",
       "    <tr>\n",
       "      <th>155</th>\n",
       "      <td>Smelt</td>\n",
       "    </tr>\n",
       "    <tr>\n",
       "      <th>156</th>\n",
       "      <td>Smelt</td>\n",
       "    </tr>\n",
       "    <tr>\n",
       "      <th>157</th>\n",
       "      <td>Smelt</td>\n",
       "    </tr>\n",
       "    <tr>\n",
       "      <th>158</th>\n",
       "      <td>Smelt</td>\n",
       "    </tr>\n",
       "  </tbody>\n",
       "</table>\n",
       "<p>156 rows × 1 columns</p>\n",
       "</div>"
      ],
      "text/plain": [
       "    Species\n",
       "0     Bream\n",
       "1     Bream\n",
       "2     Bream\n",
       "3     Bream\n",
       "4     Bream\n",
       "..      ...\n",
       "154   Smelt\n",
       "155   Smelt\n",
       "156   Smelt\n",
       "157   Smelt\n",
       "158   Smelt\n",
       "\n",
       "[156 rows x 1 columns]"
      ]
     },
     "execution_count": 113,
     "metadata": {},
     "output_type": "execute_result"
    }
   ],
   "source": [
    "#Independet categorical variable\n",
    "IDV_CAT=pd.DataFrame(IDV[['Species']])\n",
    "IDV_CAT"
   ]
  },
  {
   "cell_type": "code",
   "execution_count": 114,
   "id": "70a3c863",
   "metadata": {},
   "outputs": [
    {
     "data": {
      "text/html": [
       "<div>\n",
       "<style scoped>\n",
       "    .dataframe tbody tr th:only-of-type {\n",
       "        vertical-align: middle;\n",
       "    }\n",
       "\n",
       "    .dataframe tbody tr th {\n",
       "        vertical-align: top;\n",
       "    }\n",
       "\n",
       "    .dataframe thead th {\n",
       "        text-align: right;\n",
       "    }\n",
       "</style>\n",
       "<table border=\"1\" class=\"dataframe\">\n",
       "  <thead>\n",
       "    <tr style=\"text-align: right;\">\n",
       "      <th></th>\n",
       "      <th>Length1</th>\n",
       "      <th>Length2</th>\n",
       "      <th>Length3</th>\n",
       "      <th>Height</th>\n",
       "      <th>Width</th>\n",
       "    </tr>\n",
       "  </thead>\n",
       "  <tbody>\n",
       "    <tr>\n",
       "      <th>0</th>\n",
       "      <td>23.2</td>\n",
       "      <td>25.4</td>\n",
       "      <td>30.0</td>\n",
       "      <td>11.5200</td>\n",
       "      <td>4.0200</td>\n",
       "    </tr>\n",
       "    <tr>\n",
       "      <th>1</th>\n",
       "      <td>24.0</td>\n",
       "      <td>26.3</td>\n",
       "      <td>31.2</td>\n",
       "      <td>12.4800</td>\n",
       "      <td>4.3056</td>\n",
       "    </tr>\n",
       "    <tr>\n",
       "      <th>2</th>\n",
       "      <td>23.9</td>\n",
       "      <td>26.5</td>\n",
       "      <td>31.1</td>\n",
       "      <td>12.3778</td>\n",
       "      <td>4.6961</td>\n",
       "    </tr>\n",
       "    <tr>\n",
       "      <th>3</th>\n",
       "      <td>26.3</td>\n",
       "      <td>29.0</td>\n",
       "      <td>33.5</td>\n",
       "      <td>12.7300</td>\n",
       "      <td>4.4555</td>\n",
       "    </tr>\n",
       "    <tr>\n",
       "      <th>4</th>\n",
       "      <td>26.5</td>\n",
       "      <td>29.0</td>\n",
       "      <td>34.0</td>\n",
       "      <td>12.4440</td>\n",
       "      <td>5.1340</td>\n",
       "    </tr>\n",
       "    <tr>\n",
       "      <th>...</th>\n",
       "      <td>...</td>\n",
       "      <td>...</td>\n",
       "      <td>...</td>\n",
       "      <td>...</td>\n",
       "      <td>...</td>\n",
       "    </tr>\n",
       "    <tr>\n",
       "      <th>154</th>\n",
       "      <td>11.5</td>\n",
       "      <td>12.2</td>\n",
       "      <td>13.4</td>\n",
       "      <td>2.0904</td>\n",
       "      <td>1.3936</td>\n",
       "    </tr>\n",
       "    <tr>\n",
       "      <th>155</th>\n",
       "      <td>11.7</td>\n",
       "      <td>12.4</td>\n",
       "      <td>13.5</td>\n",
       "      <td>2.4300</td>\n",
       "      <td>1.2690</td>\n",
       "    </tr>\n",
       "    <tr>\n",
       "      <th>156</th>\n",
       "      <td>12.1</td>\n",
       "      <td>13.0</td>\n",
       "      <td>13.8</td>\n",
       "      <td>2.2770</td>\n",
       "      <td>1.2558</td>\n",
       "    </tr>\n",
       "    <tr>\n",
       "      <th>157</th>\n",
       "      <td>13.2</td>\n",
       "      <td>14.3</td>\n",
       "      <td>15.2</td>\n",
       "      <td>2.8728</td>\n",
       "      <td>2.0672</td>\n",
       "    </tr>\n",
       "    <tr>\n",
       "      <th>158</th>\n",
       "      <td>13.8</td>\n",
       "      <td>15.0</td>\n",
       "      <td>16.2</td>\n",
       "      <td>2.9322</td>\n",
       "      <td>1.8792</td>\n",
       "    </tr>\n",
       "  </tbody>\n",
       "</table>\n",
       "<p>156 rows × 5 columns</p>\n",
       "</div>"
      ],
      "text/plain": [
       "     Length1  Length2  Length3   Height   Width\n",
       "0       23.2     25.4     30.0  11.5200  4.0200\n",
       "1       24.0     26.3     31.2  12.4800  4.3056\n",
       "2       23.9     26.5     31.1  12.3778  4.6961\n",
       "3       26.3     29.0     33.5  12.7300  4.4555\n",
       "4       26.5     29.0     34.0  12.4440  5.1340\n",
       "..       ...      ...      ...      ...     ...\n",
       "154     11.5     12.2     13.4   2.0904  1.3936\n",
       "155     11.7     12.4     13.5   2.4300  1.2690\n",
       "156     12.1     13.0     13.8   2.2770  1.2558\n",
       "157     13.2     14.3     15.2   2.8728  2.0672\n",
       "158     13.8     15.0     16.2   2.9322  1.8792\n",
       "\n",
       "[156 rows x 5 columns]"
      ]
     },
     "execution_count": 114,
     "metadata": {},
     "output_type": "execute_result"
    }
   ],
   "source": [
    "# indepednet Numerical variable \n",
    "IDV_NUM=IDV.iloc[:,1:]\n",
    "IDV_NUM"
   ]
  },
  {
   "cell_type": "code",
   "execution_count": 156,
   "id": "19a5ed3e",
   "metadata": {},
   "outputs": [
    {
     "data": {
      "text/plain": [
       "<AxesSubplot:>"
      ]
     },
     "execution_count": 156,
     "metadata": {},
     "output_type": "execute_result"
    },
    {
     "data": {
      "image/png": "[encoded data removed]",
      "text/plain": [
       "<Figure size 432x288 with 2 Axes>"
      ]
     },
     "metadata": {
      "needs_background": "light"
     },
     "output_type": "display_data"
    }
   ],
   "source": [
    "# to find how independent and dependant variable on how its correlated to eachother?\n",
    "sns.heatmap(df.iloc[:,1:].corr(),annot=True)"
   ]
  },
  {
   "cell_type": "markdown",
   "id": "75021e5b",
   "metadata": {},
   "source": [
    "# Univariate analysis"
   ]
  },
  {
   "cell_type": "code",
   "execution_count": null,
   "id": "da8ec300",
   "metadata": {},
   "outputs": [],
   "source": [
    "# graphical method for dependent variable "
   ]
  },
  {
   "cell_type": "code",
   "execution_count": 157,
   "id": "6a4a6461",
   "metadata": {},
   "outputs": [
    {
     "data": {
      "text/plain": [
       "<AxesSubplot:xlabel='Weight', ylabel='Density'>"
      ]
     },
     "execution_count": 157,
     "metadata": {},
     "output_type": "execute_result"
    },
    {
     "data": {
      "image/png": "[encoded data removed]",
      "text/plain": [
       "<Figure size 432x288 with 1 Axes>"
      ]
     },
     "metadata": {
      "needs_background": "light"
     },
     "output_type": "display_data"
    }
   ],
   "source": [
    "sns.kdeplot(DEP) # Kdepllot is used to identify the distribution of data of the dependent variable"
   ]
  },
  {
   "cell_type": "code",
   "execution_count": null,
   "id": "6f1a064a",
   "metadata": {},
   "outputs": [],
   "source": [
    "# Statistical method test to check the linearity significance"
   ]
  },
  {
   "cell_type": "code",
   "execution_count": 117,
   "id": "954d94e5",
   "metadata": {},
   "outputs": [
    {
     "name": "stdout",
     "output_type": "stream",
     "text": [
      " not significant\n"
     ]
    }
   ],
   "source": [
    "# shapiro test is done to find wheather it is used to find dependent variable is normaly distributed or not.\n",
    "s,p=shapiro(DEP)\n",
    "if p>0.05:\n",
    "    print(\"significant\")\n",
    "else:\n",
    "    print(\" not significant\")"
   ]
  },
  {
   "cell_type": "code",
   "execution_count": 158,
   "id": "359e693f",
   "metadata": {},
   "outputs": [
    {
     "name": "stdout",
     "output_type": "stream",
     "text": [
      "Length1 0.8957425609788278 4.34372338786654e-56\n",
      "Significant\n",
      "Length2 0.8997590509506709 2.4714981862122261e-57\n",
      "Significant\n",
      "Length3 0.9072921554536854 8.113849316458209e-60\n",
      "Significant\n",
      "Height 0.8018712156822994 2.867672256971377e-36\n",
      "Significant\n",
      "Width 0.9234321722602117 6.124586053795755e-66\n",
      "Significant\n"
     ]
    }
   ],
   "source": [
    "# finding the Linearity relation between Dependent and Independent variable using pearsonr method\n",
    "for i in IDV_NUM:\n",
    "    r,p=pearsonr(DEP,IDV_NUM[i])\n",
    "    print(i,r,p)\n",
    "    if p>0.05:\n",
    "        print(\"Not significant\")\n",
    "    else:\n",
    "        print(\"Significant\")"
   ]
  },
  {
   "cell_type": "markdown",
   "id": "9909b353",
   "metadata": {},
   "source": [
    "#### Bivariat analysis for indepent numerical variable"
   ]
  },
  {
   "cell_type": "code",
   "execution_count": 159,
   "id": "b1f6a992",
   "metadata": {},
   "outputs": [
    {
     "name": "stdout",
     "output_type": "stream",
     "text": [
      "Length1 and Length1 ------> 1.0,0.0\n",
      "Significant.\n",
      "\n",
      "Length1 and Length2 ------> 0.9994183105852784,7.219809345514062e-228\n",
      "Significant.\n",
      "\n",
      "Length1 and Length3 ------> 0.9906124044862433,5.2502584338582455e-135\n",
      "Significant.\n",
      "\n",
      "Length1 and Height ------> 0.676325953414473,3.3727542296509903e-22\n",
      "Significant.\n",
      "\n",
      "Length1 and Width ------> 0.8891659137401853,3.718801544616001e-54\n",
      "Significant.\n",
      "\n",
      "Length2 and Length1 ------> 0.9994183105852784,7.219809345514062e-228\n",
      "Significant.\n",
      "\n",
      "Length2 and Length2 ------> 1.0,0.0\n",
      "Significant.\n",
      "\n",
      "Length2 and Length3 ------> 0.9930492994505425,5.123355775300504e-145\n",
      "Significant.\n",
      "\n",
      "Length2 and Height ------> 0.6919539518671971,1.4918987250177315e-23\n",
      "Significant.\n",
      "\n",
      "Length2 and Width ------> 0.8955835283148015,4.854043147867683e-56\n",
      "Significant.\n",
      "\n",
      "Length3 and Length1 ------> 0.9906124044862433,5.2502584338582455e-135\n",
      "Significant.\n",
      "\n",
      "Length3 and Length2 ------> 0.9930492994505425,5.123355775300504e-145\n",
      "Significant.\n",
      "\n",
      "Length3 and Length3 ------> 0.9999999999999999,0.0\n",
      "Significant.\n",
      "\n",
      "Length3 and Height ------> 0.7560186130201627,3.820207573886061e-30\n",
      "Significant.\n",
      "\n",
      "Length3 and Width ------> 0.89705347312054,1.726677501889073e-56\n",
      "Significant.\n",
      "\n",
      "Height and Length1 ------> 0.676325953414473,3.3727542296509903e-22\n",
      "Significant.\n",
      "\n",
      "Height and Length2 ------> 0.6919539518671971,1.4918987250177315e-23\n",
      "Significant.\n",
      "\n",
      "Height and Length3 ------> 0.7560186130201627,3.820207573886061e-30\n",
      "Significant.\n",
      "\n",
      "Height and Height ------> 1.0,0.0\n",
      "Significant.\n",
      "\n",
      "Height and Width ------> 0.8005423313383795,4.5405412881752776e-36\n",
      "Significant.\n",
      "\n",
      "Width and Length1 ------> 0.8891659137401853,3.718801544616001e-54\n",
      "Significant.\n",
      "\n",
      "Width and Length2 ------> 0.8955835283148015,4.854043147867683e-56\n",
      "Significant.\n",
      "\n",
      "Width and Length3 ------> 0.89705347312054,1.726677501889073e-56\n",
      "Significant.\n",
      "\n",
      "Width and Height ------> 0.8005423313383795,4.5405412881752776e-36\n",
      "Significant.\n",
      "\n",
      "Width and Width ------> 0.9999999999999999,0.0\n",
      "Significant.\n",
      "\n"
     ]
    }
   ],
   "source": [
    "# finding the linearity between the independent variable using statistical method\n",
    "for i in IDV_NUM:\n",
    "    for j in IDV_NUM:\n",
    "        r,p = pearsonr(IDV_NUM[i],IDV_NUM[j])\n",
    "        print(f'{i} and {j} ------> {r},{p}')\n",
    "        if p>0.05:\n",
    "            print(\"Not Significant.\")\n",
    "        else:\n",
    "            print(\"Significant.\")\n",
    "        print()"
   ]
  },
  {
   "cell_type": "code",
   "execution_count": 120,
   "id": "4c67f123",
   "metadata": {},
   "outputs": [
    {
     "name": "stdout",
     "output_type": "stream",
     "text": [
      "0.936906635761261 1.1799183017322817e-17\n",
      " not significant\n"
     ]
    }
   ],
   "source": [
    "# normality test for the independt numerical variable\n",
    "s,p=shapiro(IDV_NUM)\n",
    "print(s,p)\n",
    "if p>0.05:\n",
    "    print(\"significant\")\n",
    "else:\n",
    "    print(\" not significant\")"
   ]
  },
  {
   "cell_type": "markdown",
   "id": "18cc92a2",
   "metadata": {},
   "source": [
    "## Multicolinearity"
   ]
  },
  {
   "cell_type": "code",
   "execution_count": 161,
   "id": "54631384",
   "metadata": {},
   "outputs": [
    {
     "data": {
      "text/plain": [
       "<AxesSubplot:>"
      ]
     },
     "execution_count": 161,
     "metadata": {},
     "output_type": "execute_result"
    },
    {
     "data": {
      "image/png": "[encoded data removed]",
      "text/plain": [
       "<Figure size 432x288 with 2 Axes>"
      ]
     },
     "metadata": {
      "needs_background": "light"
     },
     "output_type": "display_data"
    }
   ],
   "source": [
    "# graphical method\n",
    "sns.heatmap(IDV_NUM.corr(),annot=True)\n",
    "# This heat map shows how every indepent variables are corelated with each other  "
   ]
  },
  {
   "cell_type": "code",
   "execution_count": 162,
   "id": "18b975ea",
   "metadata": {},
   "outputs": [
    {
     "data": {
      "text/plain": [
       "<AxesSubplot:ylabel='Species'>"
      ]
     },
     "execution_count": 162,
     "metadata": {},
     "output_type": "execute_result"
    },
    {
     "data": {
      "image/png": "[encoded data removed]",
      "text/plain": [
       "<Figure size 432x288 with 1 Axes>"
      ]
     },
     "metadata": {
      "needs_background": "light"
     },
     "output_type": "display_data"
    }
   ],
   "source": [
    "# graphical method for Independent categorical variable\n",
    "sns.barplot(x=IDV_CAT.Species.unique(),y=IDV_CAT.Species.value_counts(),data=IDV_CAT)"
   ]
  },
  {
   "cell_type": "code",
   "execution_count": 123,
   "id": "3810014f",
   "metadata": {},
   "outputs": [
    {
     "data": {
      "text/plain": [
       "<AxesSubplot:xlabel='Height', ylabel='Width'>"
      ]
     },
     "execution_count": 123,
     "metadata": {},
     "output_type": "execute_result"
    },
    {
     "data": {
      "image/png": "[encoded data removed]",
      "text/plain": [
       "<Figure size 432x288 with 1 Axes>"
      ]
     },
     "metadata": {
      "needs_background": "light"
     },
     "output_type": "display_data"
    }
   ],
   "source": [
    "# to find the relation between the two independent variable\n",
    "sns.scatterplot(x=IDV_NUM.Height,y=IDV_NUM.Width,data=IDV_NUM,hue='Width')"
   ]
  },
  {
   "cell_type": "code",
   "execution_count": null,
   "id": "10bcc8fa",
   "metadata": {},
   "outputs": [],
   "source": []
  },
  {
   "cell_type": "code",
   "execution_count": null,
   "id": "629b0bba",
   "metadata": {},
   "outputs": [],
   "source": []
  },
  {
   "cell_type": "code",
   "execution_count": 124,
   "id": "e3236c1c",
   "metadata": {},
   "outputs": [
    {
     "data": {
      "text/plain": [
       "<seaborn.axisgrid.PairGrid at 0x2c4a0737430>"
      ]
     },
     "execution_count": 124,
     "metadata": {},
     "output_type": "execute_result"
    },
    {
     "data": {
      "image/png": "[encoded data removed]",
      "text/plain": [
       "<Figure size 900x900 with 30 Axes>"
      ]
     },
     "metadata": {
      "needs_background": "light"
     },
     "output_type": "display_data"
    }
   ],
   "source": [
    "sns.pairplot(IDV)"
   ]
  },
  {
   "cell_type": "code",
   "execution_count": 125,
   "id": "c6039ce8",
   "metadata": {},
   "outputs": [],
   "source": []
  },
  {
   "cell_type": "code",
   "execution_count": null,
   "id": "da690451",
   "metadata": {},
   "outputs": [],
   "source": [
    "# VIF is used to find the multicoliearity so that we can identify which feature can be treated"
   ]
  },
  {
   "cell_type": "code",
   "execution_count": 164,
   "id": "8a85c429",
   "metadata": {
    "scrolled": true
   },
   "outputs": [
    {
     "name": "stdout",
     "output_type": "stream",
     "text": [
      "Length1------>11851.606958399318\n",
      "Length2------>15437.668441672933\n",
      "Length3------>3162.4841264495817\n",
      "Height------>75.87834205065113\n",
      "Width------>96.76421237834869\n"
     ]
    }
   ],
   "source": [
    "for i in range(len(IDV_NUM.columns)):\n",
    "    print(f'{IDV_NUM.columns[i]}------>{variance_inflation_factor(IDV_NUM.values,i)}')"
   ]
  },
  {
   "cell_type": "markdown",
   "id": "d65fd27e",
   "metadata": {},
   "source": [
    "## Building a model"
   ]
  },
  {
   "cell_type": "code",
   "execution_count": 165,
   "id": "c4ee3fa6",
   "metadata": {},
   "outputs": [
    {
     "data": {
      "text/html": [
       "<div>\n",
       "<style scoped>\n",
       "    .dataframe tbody tr th:only-of-type {\n",
       "        vertical-align: middle;\n",
       "    }\n",
       "\n",
       "    .dataframe tbody tr th {\n",
       "        vertical-align: top;\n",
       "    }\n",
       "\n",
       "    .dataframe thead th {\n",
       "        text-align: right;\n",
       "    }\n",
       "</style>\n",
       "<table border=\"1\" class=\"dataframe\">\n",
       "  <thead>\n",
       "    <tr style=\"text-align: right;\">\n",
       "      <th></th>\n",
       "      <th>Length1</th>\n",
       "      <th>Length2</th>\n",
       "      <th>Length3</th>\n",
       "      <th>Height</th>\n",
       "      <th>Width</th>\n",
       "    </tr>\n",
       "  </thead>\n",
       "  <tbody>\n",
       "    <tr>\n",
       "      <th>0</th>\n",
       "      <td>23.2</td>\n",
       "      <td>25.4</td>\n",
       "      <td>30.0</td>\n",
       "      <td>11.5200</td>\n",
       "      <td>4.0200</td>\n",
       "    </tr>\n",
       "    <tr>\n",
       "      <th>1</th>\n",
       "      <td>24.0</td>\n",
       "      <td>26.3</td>\n",
       "      <td>31.2</td>\n",
       "      <td>12.4800</td>\n",
       "      <td>4.3056</td>\n",
       "    </tr>\n",
       "    <tr>\n",
       "      <th>2</th>\n",
       "      <td>23.9</td>\n",
       "      <td>26.5</td>\n",
       "      <td>31.1</td>\n",
       "      <td>12.3778</td>\n",
       "      <td>4.6961</td>\n",
       "    </tr>\n",
       "    <tr>\n",
       "      <th>3</th>\n",
       "      <td>26.3</td>\n",
       "      <td>29.0</td>\n",
       "      <td>33.5</td>\n",
       "      <td>12.7300</td>\n",
       "      <td>4.4555</td>\n",
       "    </tr>\n",
       "    <tr>\n",
       "      <th>4</th>\n",
       "      <td>26.5</td>\n",
       "      <td>29.0</td>\n",
       "      <td>34.0</td>\n",
       "      <td>12.4440</td>\n",
       "      <td>5.1340</td>\n",
       "    </tr>\n",
       "    <tr>\n",
       "      <th>...</th>\n",
       "      <td>...</td>\n",
       "      <td>...</td>\n",
       "      <td>...</td>\n",
       "      <td>...</td>\n",
       "      <td>...</td>\n",
       "    </tr>\n",
       "    <tr>\n",
       "      <th>154</th>\n",
       "      <td>11.5</td>\n",
       "      <td>12.2</td>\n",
       "      <td>13.4</td>\n",
       "      <td>2.0904</td>\n",
       "      <td>1.3936</td>\n",
       "    </tr>\n",
       "    <tr>\n",
       "      <th>155</th>\n",
       "      <td>11.7</td>\n",
       "      <td>12.4</td>\n",
       "      <td>13.5</td>\n",
       "      <td>2.4300</td>\n",
       "      <td>1.2690</td>\n",
       "    </tr>\n",
       "    <tr>\n",
       "      <th>156</th>\n",
       "      <td>12.1</td>\n",
       "      <td>13.0</td>\n",
       "      <td>13.8</td>\n",
       "      <td>2.2770</td>\n",
       "      <td>1.2558</td>\n",
       "    </tr>\n",
       "    <tr>\n",
       "      <th>157</th>\n",
       "      <td>13.2</td>\n",
       "      <td>14.3</td>\n",
       "      <td>15.2</td>\n",
       "      <td>2.8728</td>\n",
       "      <td>2.0672</td>\n",
       "    </tr>\n",
       "    <tr>\n",
       "      <th>158</th>\n",
       "      <td>13.8</td>\n",
       "      <td>15.0</td>\n",
       "      <td>16.2</td>\n",
       "      <td>2.9322</td>\n",
       "      <td>1.8792</td>\n",
       "    </tr>\n",
       "  </tbody>\n",
       "</table>\n",
       "<p>156 rows × 5 columns</p>\n",
       "</div>"
      ],
      "text/plain": [
       "     Length1  Length2  Length3   Height   Width\n",
       "0       23.2     25.4     30.0  11.5200  4.0200\n",
       "1       24.0     26.3     31.2  12.4800  4.3056\n",
       "2       23.9     26.5     31.1  12.3778  4.6961\n",
       "3       26.3     29.0     33.5  12.7300  4.4555\n",
       "4       26.5     29.0     34.0  12.4440  5.1340\n",
       "..       ...      ...      ...      ...     ...\n",
       "154     11.5     12.2     13.4   2.0904  1.3936\n",
       "155     11.7     12.4     13.5   2.4300  1.2690\n",
       "156     12.1     13.0     13.8   2.2770  1.2558\n",
       "157     13.2     14.3     15.2   2.8728  2.0672\n",
       "158     13.8     15.0     16.2   2.9322  1.8792\n",
       "\n",
       "[156 rows x 5 columns]"
      ]
     },
     "execution_count": 165,
     "metadata": {},
     "output_type": "execute_result"
    }
   ],
   "source": [
    "# we did not take categorical because its string type\n",
    "\n",
    "x=IDV_NUM.iloc[:,0:5]\n",
    "x"
   ]
  },
  {
   "cell_type": "code",
   "execution_count": 166,
   "id": "52e5e9da",
   "metadata": {},
   "outputs": [
    {
     "data": {
      "text/plain": [
       "0      242.0\n",
       "1      290.0\n",
       "2      340.0\n",
       "3      363.0\n",
       "4      430.0\n",
       "       ...  \n",
       "154     12.2\n",
       "155     13.4\n",
       "156     12.2\n",
       "157     19.7\n",
       "158     19.9\n",
       "Name: Weight, Length: 156, dtype: float64"
      ]
     },
     "execution_count": 166,
     "metadata": {},
     "output_type": "execute_result"
    }
   ],
   "source": [
    "y=DEP\n",
    "y"
   ]
  },
  {
   "cell_type": "code",
   "execution_count": null,
   "id": "62c398d9",
   "metadata": {},
   "outputs": [],
   "source": []
  },
  {
   "cell_type": "code",
   "execution_count": 167,
   "id": "d0ec1ce6",
   "metadata": {},
   "outputs": [],
   "source": [
    "xtrain,xtest,ytrain,ytest= train_test_split(x,y,test_size=0.3)"
   ]
  },
  {
   "cell_type": "code",
   "execution_count": 130,
   "id": "d73241a1",
   "metadata": {},
   "outputs": [
    {
     "name": "stdout",
     "output_type": "stream",
     "text": [
      "(109, 5)\n",
      "(47, 5)\n",
      "(109,)\n",
      "(47,)\n"
     ]
    }
   ],
   "source": [
    "print(xtrain.shape)\n",
    "print(xtest.shape)\n",
    "print(ytrain.shape)\n",
    "print(ytest.shape)"
   ]
  },
  {
   "cell_type": "code",
   "execution_count": 168,
   "id": "6be4397c",
   "metadata": {},
   "outputs": [],
   "source": [
    "from sklearn.linear_model import LinearRegression"
   ]
  },
  {
   "cell_type": "code",
   "execution_count": 169,
   "id": "3791a291",
   "metadata": {},
   "outputs": [],
   "source": [
    "lr=LinearRegression()"
   ]
  },
  {
   "cell_type": "code",
   "execution_count": 170,
   "id": "32b9f6fa",
   "metadata": {},
   "outputs": [
    {
     "data": {
      "text/plain": [
       "LinearRegression()"
      ]
     },
     "execution_count": 170,
     "metadata": {},
     "output_type": "execute_result"
    }
   ],
   "source": [
    "lr.fit(xtrain,ytrain)"
   ]
  },
  {
   "cell_type": "code",
   "execution_count": 134,
   "id": "855b36f6",
   "metadata": {},
   "outputs": [
    {
     "data": {
      "text/plain": [
       "array([ 98.42430746, -41.22150053, -34.93149523,  37.05966497,\n",
       "        42.59063985])"
      ]
     },
     "execution_count": 134,
     "metadata": {},
     "output_type": "execute_result"
    }
   ],
   "source": [
    "lr.coef_ # finding the coefficient value "
   ]
  },
  {
   "cell_type": "code",
   "execution_count": 171,
   "id": "a5d3df84",
   "metadata": {},
   "outputs": [
    {
     "data": {
      "text/plain": [
       "-416.61083071262715"
      ]
     },
     "execution_count": 171,
     "metadata": {},
     "output_type": "execute_result"
    }
   ],
   "source": [
    "lr.intercept_ # finding the intercept value"
   ]
  },
  {
   "cell_type": "code",
   "execution_count": 172,
   "id": "bb795dd2",
   "metadata": {},
   "outputs": [
    {
     "data": {
      "text/plain": [
       "array([ 431.96061517,  692.92481978,  663.57582376, -124.52024764,\n",
       "        843.3558917 ,  640.69362195,  174.02901629,  377.12194229,\n",
       "        213.72078533,  369.1737104 ,  688.05937536,   56.89077101,\n",
       "        506.56573926,  295.16362655,  167.83425699,  352.44113345,\n",
       "       -136.29755998,  453.25478383,  285.25634548,  648.153491  ,\n",
       "        159.88556344,  287.94178336,  557.75437383,  518.60691506,\n",
       "        739.14577914,  920.00117629,  174.91005309,  576.01957198,\n",
       "         -9.38704745,  821.8042928 ,  386.53934801,  259.53571498,\n",
       "        784.35907465,  556.7904506 ,  100.3222715 ,  496.42108695,\n",
       "        759.27375516,  147.22239598,  287.74774945, -121.85425738,\n",
       "        178.25984478,  605.04342193,  802.96072504,  710.23418744,\n",
       "        560.88934049,  651.12910684,  585.46803632,  225.424657  ,\n",
       "        259.9329145 ,  103.98365665,  427.56529586,  907.82399683,\n",
       "        -62.01444561, -207.32774341,  151.93686989,  181.3834668 ,\n",
       "        827.41560557,  222.85405736,  -69.86140226, -142.5915215 ,\n",
       "        358.90196312,  702.74669828,  163.63457731,  161.3176337 ,\n",
       "        -58.91336201,  670.37475674,  774.53931684,  348.53105271,\n",
       "        182.60115108,  638.95291548,   60.34430499,  322.13635042,\n",
       "        124.97602878, -138.51488349,   39.07134088,  141.26268428,\n",
       "        789.23235727,   90.07517941,  772.84370132,  467.92919807,\n",
       "        274.37341042, -163.86272832,  287.34163919,  747.12919229,\n",
       "        623.56998796,  378.90248455,  248.82913832,  206.56953038,\n",
       "        440.72771302,  671.44437514, -128.57996391,  241.51149444,\n",
       "        331.41587918,  345.65864244,  638.05663289,  377.45741773,\n",
       "       -133.50527945,  504.79276278, -185.38386439,  332.30747273,\n",
       "         76.17370525,   52.0971455 ,  372.05747934,  776.64782425,\n",
       "         82.64297691,  186.56846609,  584.51810413,  215.03702403,\n",
       "        634.45030798])"
      ]
     },
     "execution_count": 172,
     "metadata": {},
     "output_type": "execute_result"
    }
   ],
   "source": [
    "# predicting the value \n",
    "train_pred=lr.predict(xtrain)\n",
    "train_pred"
   ]
  },
  {
   "cell_type": "code",
   "execution_count": 137,
   "id": "2f090ef5",
   "metadata": {},
   "outputs": [
    {
     "data": {
      "text/plain": [
       "109   -111.139280\n",
       "15     -19.832925\n",
       "108    -96.087611\n",
       "16      95.341778\n",
       "71    -113.949091\n",
       "          ...    \n",
       "113    -39.755891\n",
       "36      52.893311\n",
       "148    183.628497\n",
       "157    111.501903\n",
       "54     -98.692016\n",
       "Name: Weight, Length: 109, dtype: float64"
      ]
     },
     "execution_count": 137,
     "metadata": {},
     "output_type": "execute_result"
    }
   ],
   "source": [
    "# finding the error \n",
    "error=ytrain-train_pred\n",
    "error"
   ]
  },
  {
   "cell_type": "code",
   "execution_count": 173,
   "id": "343b3da0",
   "metadata": {},
   "outputs": [
    {
     "data": {
      "text/plain": [
       "<AxesSubplot:xlabel='Weight', ylabel='Density'>"
      ]
     },
     "execution_count": 173,
     "metadata": {},
     "output_type": "execute_result"
    },
    {
     "data": {
      "image/png": "[encoded data removed]",
      "text/plain": [
       "<Figure size 432x288 with 1 Axes>"
      ]
     },
     "metadata": {
      "needs_background": "light"
     },
     "output_type": "display_data"
    }
   ],
   "source": [
    "# to find how the error is distributed\n",
    "sns.kdeplot(error)"
   ]
  },
  {
   "cell_type": "code",
   "execution_count": 139,
   "id": "1103c458",
   "metadata": {},
   "outputs": [],
   "source": [
    "# used to find the accuracy\n",
    "from sklearn.metrics import mean_squared_error,r2_score"
   ]
  },
  {
   "cell_type": "code",
   "execution_count": 140,
   "id": "e3a141a9",
   "metadata": {},
   "outputs": [
    {
     "data": {
      "text/plain": [
       "9134.651071442235"
      ]
     },
     "execution_count": 140,
     "metadata": {},
     "output_type": "execute_result"
    }
   ],
   "source": [
    "mean_squared_error(train_pred,ytrain) # finding the error between actual and predicted using MSE"
   ]
  },
  {
   "cell_type": "code",
   "execution_count": 141,
   "id": "01461d7d",
   "metadata": {},
   "outputs": [
    {
     "data": {
      "text/plain": [
       "95.57536853940054"
      ]
     },
     "execution_count": 141,
     "metadata": {},
     "output_type": "execute_result"
    }
   ],
   "source": [
    "np.sqrt(mean_squared_error(train_pred,ytrain)) # RMSE  is used as to optmize the mse "
   ]
  },
  {
   "cell_type": "code",
   "execution_count": 174,
   "id": "cd5aac1a",
   "metadata": {},
   "outputs": [
    {
     "data": {
      "text/plain": [
       "0.895443128159282"
      ]
     },
     "execution_count": 174,
     "metadata": {},
     "output_type": "execute_result"
    }
   ],
   "source": [
    "r2_score(ytrain,train_pred) # accuracy of the model"
   ]
  },
  {
   "cell_type": "code",
   "execution_count": 175,
   "id": "2a1e981b",
   "metadata": {},
   "outputs": [
    {
     "data": {
      "text/plain": [
       "array([ 898.40113614,  669.45104826,  451.42072261,  520.44595961,\n",
       "        128.907311  ,  847.01586731,  217.8931711 ,  713.52317315,\n",
       "        361.20319286,  135.02336411,  425.67526754,  418.5565174 ,\n",
       "        163.35407352,  858.08462303,  285.98266495,  -76.21830411,\n",
       "        724.36507369,  453.53502133,  654.90263118,  772.06110561,\n",
       "        616.59971322,   95.45772422,  878.43567722,  537.07849413,\n",
       "        249.18893489,  568.70898902,   87.65799519,  602.6857565 ,\n",
       "        171.11424707,  239.15854604,  596.78501575,  421.35468441,\n",
       "        924.89259952,  234.14205742,  384.64595891, -160.01920154,\n",
       "        551.87226269, -131.05905518,   35.44858457, -138.08192205,\n",
       "        142.87820838,  633.19165792,  871.74652249,  789.89089576,\n",
       "        871.4147761 ,  206.8670622 ,  178.54140428])"
      ]
     },
     "execution_count": 175,
     "metadata": {},
     "output_type": "execute_result"
    }
   ],
   "source": [
    "test_pred=lr.predict(xtest)\n",
    "test_pred"
   ]
  },
  {
   "cell_type": "code",
   "execution_count": 176,
   "id": "ca296c38",
   "metadata": {},
   "outputs": [
    {
     "data": {
      "text/plain": [
       "125    201.598864\n",
       "139    100.548952\n",
       "5       -1.420723\n",
       "12     -20.445960\n",
       "83     -13.907311\n",
       "124    152.984133\n",
       "44     -72.893171\n",
       "115    -23.523173\n",
       "57     -55.203193\n",
       "82     -25.023364\n",
       "108   -105.675268\n",
       "3      -55.556517\n",
       "85     -33.354074\n",
       "32      66.915377\n",
       "55     -15.982665\n",
       "158     96.118304\n",
       "112    -39.365074\n",
       "4      -23.535021\n",
       "25      70.097369\n",
       "111     67.938894\n",
       "22       3.400287\n",
       "79     -15.457724\n",
       "33      96.564323\n",
       "10     -62.078494\n",
       "67     -79.188935\n",
       "134   -112.708989\n",
       "81      -2.657995\n",
       "136    -62.685756\n",
       "40    -171.114247\n",
       "47     -79.158546\n",
       "17     103.214984\n",
       "71    -121.354684\n",
       "127     75.107400\n",
       "97     -89.142057\n",
       "101   -166.645959\n",
       "146    167.519202\n",
       "13    -211.872263\n",
       "152    140.959055\n",
       "76      34.551415\n",
       "148    147.781922\n",
       "42     -22.878208\n",
       "20     -58.191658\n",
       "118    -51.746522\n",
       "29     210.109104\n",
       "34      78.585224\n",
       "46     -66.867062\n",
       "39     -58.541404\n",
       "Name: Weight, dtype: float64"
      ]
     },
     "execution_count": 176,
     "metadata": {},
     "output_type": "execute_result"
    }
   ],
   "source": [
    "error2=ytest-test_pred\n",
    "error2"
   ]
  },
  {
   "cell_type": "code",
   "execution_count": 177,
   "id": "c7bbd2e6",
   "metadata": {},
   "outputs": [
    {
     "data": {
      "text/plain": [
       "9458.893120397634"
      ]
     },
     "execution_count": 177,
     "metadata": {},
     "output_type": "execute_result"
    }
   ],
   "source": [
    "mean_squared_error(test_pred,ytest)"
   ]
  },
  {
   "cell_type": "code",
   "execution_count": 178,
   "id": "70e78a24",
   "metadata": {},
   "outputs": [
    {
     "data": {
      "text/plain": [
       "97.25684099536461"
      ]
     },
     "execution_count": 178,
     "metadata": {},
     "output_type": "execute_result"
    }
   ],
   "source": [
    "np.sqrt(mean_squared_error(test_pred,ytest))"
   ]
  },
  {
   "cell_type": "code",
   "execution_count": 179,
   "id": "dd5fcf24",
   "metadata": {},
   "outputs": [
    {
     "data": {
      "text/plain": [
       "0.9160358214230627"
      ]
     },
     "execution_count": 179,
     "metadata": {},
     "output_type": "execute_result"
    }
   ],
   "source": [
    "r2_score(ytest,test_pred)"
   ]
  },
  {
   "cell_type": "code",
   "execution_count": 180,
   "id": "ed12d23c",
   "metadata": {},
   "outputs": [],
   "source": [
    "import statsmodels.api as sm"
   ]
  },
  {
   "cell_type": "code",
   "execution_count": 181,
   "id": "8ebdb14f",
   "metadata": {},
   "outputs": [
    {
     "data": {
      "text/html": [
       "<div>\n",
       "<style scoped>\n",
       "    .dataframe tbody tr th:only-of-type {\n",
       "        vertical-align: middle;\n",
       "    }\n",
       "\n",
       "    .dataframe tbody tr th {\n",
       "        vertical-align: top;\n",
       "    }\n",
       "\n",
       "    .dataframe thead th {\n",
       "        text-align: right;\n",
       "    }\n",
       "</style>\n",
       "<table border=\"1\" class=\"dataframe\">\n",
       "  <thead>\n",
       "    <tr style=\"text-align: right;\">\n",
       "      <th></th>\n",
       "      <th>const</th>\n",
       "      <th>Length1</th>\n",
       "      <th>Length2</th>\n",
       "      <th>Length3</th>\n",
       "      <th>Height</th>\n",
       "      <th>Width</th>\n",
       "    </tr>\n",
       "  </thead>\n",
       "  <tbody>\n",
       "    <tr>\n",
       "      <th>102</th>\n",
       "      <td>1.0</td>\n",
       "      <td>25.2</td>\n",
       "      <td>27.3</td>\n",
       "      <td>28.7</td>\n",
       "      <td>8.3230</td>\n",
       "      <td>5.1373</td>\n",
       "    </tr>\n",
       "    <tr>\n",
       "      <th>59</th>\n",
       "      <td>1.0</td>\n",
       "      <td>33.7</td>\n",
       "      <td>36.4</td>\n",
       "      <td>39.6</td>\n",
       "      <td>11.7612</td>\n",
       "      <td>6.5736</td>\n",
       "    </tr>\n",
       "    <tr>\n",
       "      <th>138</th>\n",
       "      <td>1.0</td>\n",
       "      <td>43.2</td>\n",
       "      <td>46.0</td>\n",
       "      <td>48.7</td>\n",
       "      <td>7.7920</td>\n",
       "      <td>4.8700</td>\n",
       "    </tr>\n",
       "    <tr>\n",
       "      <th>151</th>\n",
       "      <td>1.0</td>\n",
       "      <td>11.3</td>\n",
       "      <td>11.8</td>\n",
       "      <td>13.1</td>\n",
       "      <td>2.2139</td>\n",
       "      <td>1.2838</td>\n",
       "    </tr>\n",
       "    <tr>\n",
       "      <th>123</th>\n",
       "      <td>1.0</td>\n",
       "      <td>39.0</td>\n",
       "      <td>42.0</td>\n",
       "      <td>44.6</td>\n",
       "      <td>12.8002</td>\n",
       "      <td>6.8684</td>\n",
       "    </tr>\n",
       "    <tr>\n",
       "      <th>...</th>\n",
       "      <td>...</td>\n",
       "      <td>...</td>\n",
       "      <td>...</td>\n",
       "      <td>...</td>\n",
       "      <td>...</td>\n",
       "      <td>...</td>\n",
       "    </tr>\n",
       "    <tr>\n",
       "      <th>78</th>\n",
       "      <td>1.0</td>\n",
       "      <td>16.8</td>\n",
       "      <td>18.7</td>\n",
       "      <td>19.4</td>\n",
       "      <td>5.1992</td>\n",
       "      <td>3.1234</td>\n",
       "    </tr>\n",
       "    <tr>\n",
       "      <th>45</th>\n",
       "      <td>1.0</td>\n",
       "      <td>20.5</td>\n",
       "      <td>22.5</td>\n",
       "      <td>25.3</td>\n",
       "      <td>7.0334</td>\n",
       "      <td>3.8203</td>\n",
       "    </tr>\n",
       "    <tr>\n",
       "      <th>14</th>\n",
       "      <td>1.0</td>\n",
       "      <td>29.4</td>\n",
       "      <td>32.0</td>\n",
       "      <td>37.2</td>\n",
       "      <td>14.9544</td>\n",
       "      <td>5.1708</td>\n",
       "    </tr>\n",
       "    <tr>\n",
       "      <th>95</th>\n",
       "      <td>1.0</td>\n",
       "      <td>21.5</td>\n",
       "      <td>23.5</td>\n",
       "      <td>25.0</td>\n",
       "      <td>6.2750</td>\n",
       "      <td>3.7250</td>\n",
       "    </tr>\n",
       "    <tr>\n",
       "      <th>109</th>\n",
       "      <td>1.0</td>\n",
       "      <td>30.5</td>\n",
       "      <td>32.8</td>\n",
       "      <td>34.0</td>\n",
       "      <td>10.0300</td>\n",
       "      <td>6.0180</td>\n",
       "    </tr>\n",
       "  </tbody>\n",
       "</table>\n",
       "<p>109 rows × 6 columns</p>\n",
       "</div>"
      ],
      "text/plain": [
       "     const  Length1  Length2  Length3   Height   Width\n",
       "102    1.0     25.2     27.3     28.7   8.3230  5.1373\n",
       "59     1.0     33.7     36.4     39.6  11.7612  6.5736\n",
       "138    1.0     43.2     46.0     48.7   7.7920  4.8700\n",
       "151    1.0     11.3     11.8     13.1   2.2139  1.2838\n",
       "123    1.0     39.0     42.0     44.6  12.8002  6.8684\n",
       "..     ...      ...      ...      ...      ...     ...\n",
       "78     1.0     16.8     18.7     19.4   5.1992  3.1234\n",
       "45     1.0     20.5     22.5     25.3   7.0334  3.8203\n",
       "14     1.0     29.4     32.0     37.2  14.9544  5.1708\n",
       "95     1.0     21.5     23.5     25.0   6.2750  3.7250\n",
       "109    1.0     30.5     32.8     34.0  10.0300  6.0180\n",
       "\n",
       "[109 rows x 6 columns]"
      ]
     },
     "execution_count": 181,
     "metadata": {},
     "output_type": "execute_result"
    }
   ],
   "source": [
    "xtrain1=sm.add_constant(xtrain)\n",
    "xtrain1"
   ]
  },
  {
   "cell_type": "code",
   "execution_count": 182,
   "id": "d1c7ccfa",
   "metadata": {},
   "outputs": [
    {
     "data": {
      "text/html": [
       "<table class=\"simpletable\">\n",
       "<caption>OLS Regression Results</caption>\n",
       "<tr>\n",
       "  <th>Dep. Variable:</th>         <td>Weight</td>      <th>  R-squared:         </th> <td>   0.895</td>\n",
       "</tr>\n",
       "<tr>\n",
       "  <th>Model:</th>                   <td>OLS</td>       <th>  Adj. R-squared:    </th> <td>   0.890</td>\n",
       "</tr>\n",
       "<tr>\n",
       "  <th>Method:</th>             <td>Least Squares</td>  <th>  F-statistic:       </th> <td>   176.4</td>\n",
       "</tr>\n",
       "<tr>\n",
       "  <th>Date:</th>             <td>Fri, 03 Dec 2021</td> <th>  Prob (F-statistic):</th> <td>7.69e-49</td>\n",
       "</tr>\n",
       "<tr>\n",
       "  <th>Time:</th>                 <td>11:31:57</td>     <th>  Log-Likelihood:    </th> <td> -656.31</td>\n",
       "</tr>\n",
       "<tr>\n",
       "  <th>No. Observations:</th>      <td>   109</td>      <th>  AIC:               </th> <td>   1325.</td>\n",
       "</tr>\n",
       "<tr>\n",
       "  <th>Df Residuals:</th>          <td>   103</td>      <th>  BIC:               </th> <td>   1341.</td>\n",
       "</tr>\n",
       "<tr>\n",
       "  <th>Df Model:</th>              <td>     5</td>      <th>                     </th>     <td> </td>   \n",
       "</tr>\n",
       "<tr>\n",
       "  <th>Covariance Type:</th>      <td>nonrobust</td>    <th>                     </th>     <td> </td>   \n",
       "</tr>\n",
       "</table>\n",
       "<table class=\"simpletable\">\n",
       "<tr>\n",
       "     <td></td>        <th>coef</th>     <th>std err</th>      <th>t</th>      <th>P>|t|</th>  <th>[0.025</th>    <th>0.975]</th>  \n",
       "</tr>\n",
       "<tr>\n",
       "  <th>const</th>   <td> -416.6108</td> <td>   30.309</td> <td>  -13.745</td> <td> 0.000</td> <td> -476.722</td> <td> -356.500</td>\n",
       "</tr>\n",
       "<tr>\n",
       "  <th>Length1</th> <td>  110.2132</td> <td>   42.219</td> <td>    2.611</td> <td> 0.010</td> <td>   26.483</td> <td>  193.944</td>\n",
       "</tr>\n",
       "<tr>\n",
       "  <th>Length2</th> <td>  -59.8192</td> <td>   42.995</td> <td>   -1.391</td> <td> 0.167</td> <td> -145.090</td> <td>   25.451</td>\n",
       "</tr>\n",
       "<tr>\n",
       "  <th>Length3</th> <td>  -30.0409</td> <td>   16.696</td> <td>   -1.799</td> <td> 0.075</td> <td>  -63.154</td> <td>    3.073</td>\n",
       "</tr>\n",
       "<tr>\n",
       "  <th>Height</th>  <td>   33.8242</td> <td>    8.576</td> <td>    3.944</td> <td> 0.000</td> <td>   16.816</td> <td>   50.833</td>\n",
       "</tr>\n",
       "<tr>\n",
       "  <th>Width</th>   <td>   55.4606</td> <td>   20.981</td> <td>    2.643</td> <td> 0.009</td> <td>   13.849</td> <td>   97.072</td>\n",
       "</tr>\n",
       "</table>\n",
       "<table class=\"simpletable\">\n",
       "<tr>\n",
       "  <th>Omnibus:</th>       <td>13.828</td> <th>  Durbin-Watson:     </th> <td>   2.217</td>\n",
       "</tr>\n",
       "<tr>\n",
       "  <th>Prob(Omnibus):</th> <td> 0.001</td> <th>  Jarque-Bera (JB):  </th> <td>  15.596</td>\n",
       "</tr>\n",
       "<tr>\n",
       "  <th>Skew:</th>          <td> 0.922</td> <th>  Prob(JB):          </th> <td>0.000411</td>\n",
       "</tr>\n",
       "<tr>\n",
       "  <th>Kurtosis:</th>      <td> 3.182</td> <th>  Cond. No.          </th> <td>    313.</td>\n",
       "</tr>\n",
       "</table><br/><br/>Notes:<br/>[1] Standard Errors assume that the covariance matrix of the errors is correctly specified."
      ],
      "text/plain": [
       "<class 'statsmodels.iolib.summary.Summary'>\n",
       "\"\"\"\n",
       "                            OLS Regression Results                            \n",
       "==============================================================================\n",
       "Dep. Variable:                 Weight   R-squared:                       0.895\n",
       "Model:                            OLS   Adj. R-squared:                  0.890\n",
       "Method:                 Least Squares   F-statistic:                     176.4\n",
       "Date:                Fri, 03 Dec 2021   Prob (F-statistic):           7.69e-49\n",
       "Time:                        11:31:57   Log-Likelihood:                -656.31\n",
       "No. Observations:                 109   AIC:                             1325.\n",
       "Df Residuals:                     103   BIC:                             1341.\n",
       "Df Model:                           5                                         \n",
       "Covariance Type:            nonrobust                                         \n",
       "==============================================================================\n",
       "                 coef    std err          t      P>|t|      [0.025      0.975]\n",
       "------------------------------------------------------------------------------\n",
       "const       -416.6108     30.309    -13.745      0.000    -476.722    -356.500\n",
       "Length1      110.2132     42.219      2.611      0.010      26.483     193.944\n",
       "Length2      -59.8192     42.995     -1.391      0.167    -145.090      25.451\n",
       "Length3      -30.0409     16.696     -1.799      0.075     -63.154       3.073\n",
       "Height        33.8242      8.576      3.944      0.000      16.816      50.833\n",
       "Width         55.4606     20.981      2.643      0.009      13.849      97.072\n",
       "==============================================================================\n",
       "Omnibus:                       13.828   Durbin-Watson:                   2.217\n",
       "Prob(Omnibus):                  0.001   Jarque-Bera (JB):               15.596\n",
       "Skew:                           0.922   Prob(JB):                     0.000411\n",
       "Kurtosis:                       3.182   Cond. No.                         313.\n",
       "==============================================================================\n",
       "\n",
       "Notes:\n",
       "[1] Standard Errors assume that the covariance matrix of the errors is correctly specified.\n",
       "\"\"\""
      ]
     },
     "execution_count": 182,
     "metadata": {},
     "output_type": "execute_result"
    }
   ],
   "source": [
    "model=sm.OLS(ytrain,xtrain1).fit()\n",
    "model.summary()"
   ]
  },
  {
   "cell_type": "code",
   "execution_count": null,
   "id": "c4995db7",
   "metadata": {},
   "outputs": [],
   "source": []
  },
  {
   "cell_type": "markdown",
   "id": "b04207b6",
   "metadata": {},
   "source": [
    "## 4. What is the mean score of the model at 95% confidence interval?"
   ]
  },
  {
   "cell_type": "markdown",
   "id": "539945f1",
   "metadata": {},
   "source": [
    "## 5.Compare real and predicted weights and give a conclusion statement based on it?"
   ]
  },
  {
   "cell_type": "code",
   "execution_count": 187,
   "id": "3d278d4d",
   "metadata": {
    "scrolled": false
   },
   "outputs": [
    {
     "data": {
      "text/html": [
       "<div>\n",
       "<style scoped>\n",
       "    .dataframe tbody tr th:only-of-type {\n",
       "        vertical-align: middle;\n",
       "    }\n",
       "\n",
       "    .dataframe tbody tr th {\n",
       "        vertical-align: top;\n",
       "    }\n",
       "\n",
       "    .dataframe thead th {\n",
       "        text-align: right;\n",
       "    }\n",
       "</style>\n",
       "<table border=\"1\" class=\"dataframe\">\n",
       "  <thead>\n",
       "    <tr style=\"text-align: right;\">\n",
       "      <th></th>\n",
       "      <th>Original weight</th>\n",
       "      <th>Pred_weight</th>\n",
       "    </tr>\n",
       "  </thead>\n",
       "  <tbody>\n",
       "    <tr>\n",
       "      <th>125</th>\n",
       "      <td>1100.0</td>\n",
       "      <td>898.401136</td>\n",
       "    </tr>\n",
       "    <tr>\n",
       "      <th>139</th>\n",
       "      <td>770.0</td>\n",
       "      <td>669.451048</td>\n",
       "    </tr>\n",
       "    <tr>\n",
       "      <th>5</th>\n",
       "      <td>450.0</td>\n",
       "      <td>451.420723</td>\n",
       "    </tr>\n",
       "    <tr>\n",
       "      <th>12</th>\n",
       "      <td>500.0</td>\n",
       "      <td>520.445960</td>\n",
       "    </tr>\n",
       "    <tr>\n",
       "      <th>83</th>\n",
       "      <td>115.0</td>\n",
       "      <td>128.907311</td>\n",
       "    </tr>\n",
       "    <tr>\n",
       "      <th>124</th>\n",
       "      <td>1000.0</td>\n",
       "      <td>847.015867</td>\n",
       "    </tr>\n",
       "    <tr>\n",
       "      <th>44</th>\n",
       "      <td>145.0</td>\n",
       "      <td>217.893171</td>\n",
       "    </tr>\n",
       "    <tr>\n",
       "      <th>115</th>\n",
       "      <td>690.0</td>\n",
       "      <td>713.523173</td>\n",
       "    </tr>\n",
       "    <tr>\n",
       "      <th>57</th>\n",
       "      <td>306.0</td>\n",
       "      <td>361.203193</td>\n",
       "    </tr>\n",
       "    <tr>\n",
       "      <th>82</th>\n",
       "      <td>110.0</td>\n",
       "      <td>135.023364</td>\n",
       "    </tr>\n",
       "    <tr>\n",
       "      <th>108</th>\n",
       "      <td>320.0</td>\n",
       "      <td>425.675268</td>\n",
       "    </tr>\n",
       "    <tr>\n",
       "      <th>3</th>\n",
       "      <td>363.0</td>\n",
       "      <td>418.556517</td>\n",
       "    </tr>\n",
       "    <tr>\n",
       "      <th>85</th>\n",
       "      <td>130.0</td>\n",
       "      <td>163.354074</td>\n",
       "    </tr>\n",
       "    <tr>\n",
       "      <th>32</th>\n",
       "      <td>925.0</td>\n",
       "      <td>858.084623</td>\n",
       "    </tr>\n",
       "    <tr>\n",
       "      <th>55</th>\n",
       "      <td>270.0</td>\n",
       "      <td>285.982665</td>\n",
       "    </tr>\n",
       "    <tr>\n",
       "      <th>158</th>\n",
       "      <td>19.9</td>\n",
       "      <td>-76.218304</td>\n",
       "    </tr>\n",
       "    <tr>\n",
       "      <th>112</th>\n",
       "      <td>685.0</td>\n",
       "      <td>724.365074</td>\n",
       "    </tr>\n",
       "    <tr>\n",
       "      <th>4</th>\n",
       "      <td>430.0</td>\n",
       "      <td>453.535021</td>\n",
       "    </tr>\n",
       "    <tr>\n",
       "      <th>25</th>\n",
       "      <td>725.0</td>\n",
       "      <td>654.902631</td>\n",
       "    </tr>\n",
       "    <tr>\n",
       "      <th>111</th>\n",
       "      <td>840.0</td>\n",
       "      <td>772.061106</td>\n",
       "    </tr>\n",
       "    <tr>\n",
       "      <th>22</th>\n",
       "      <td>620.0</td>\n",
       "      <td>616.599713</td>\n",
       "    </tr>\n",
       "    <tr>\n",
       "      <th>79</th>\n",
       "      <td>80.0</td>\n",
       "      <td>95.457724</td>\n",
       "    </tr>\n",
       "    <tr>\n",
       "      <th>33</th>\n",
       "      <td>975.0</td>\n",
       "      <td>878.435677</td>\n",
       "    </tr>\n",
       "    <tr>\n",
       "      <th>10</th>\n",
       "      <td>475.0</td>\n",
       "      <td>537.078494</td>\n",
       "    </tr>\n",
       "    <tr>\n",
       "      <th>67</th>\n",
       "      <td>170.0</td>\n",
       "      <td>249.188935</td>\n",
       "    </tr>\n",
       "    <tr>\n",
       "      <th>134</th>\n",
       "      <td>456.0</td>\n",
       "      <td>568.708989</td>\n",
       "    </tr>\n",
       "    <tr>\n",
       "      <th>81</th>\n",
       "      <td>85.0</td>\n",
       "      <td>87.657995</td>\n",
       "    </tr>\n",
       "    <tr>\n",
       "      <th>136</th>\n",
       "      <td>540.0</td>\n",
       "      <td>602.685756</td>\n",
       "    </tr>\n",
       "    <tr>\n",
       "      <th>40</th>\n",
       "      <td>0.0</td>\n",
       "      <td>171.114247</td>\n",
       "    </tr>\n",
       "    <tr>\n",
       "      <th>47</th>\n",
       "      <td>160.0</td>\n",
       "      <td>239.158546</td>\n",
       "    </tr>\n",
       "    <tr>\n",
       "      <th>17</th>\n",
       "      <td>700.0</td>\n",
       "      <td>596.785016</td>\n",
       "    </tr>\n",
       "    <tr>\n",
       "      <th>71</th>\n",
       "      <td>300.0</td>\n",
       "      <td>421.354684</td>\n",
       "    </tr>\n",
       "    <tr>\n",
       "      <th>127</th>\n",
       "      <td>1000.0</td>\n",
       "      <td>924.892600</td>\n",
       "    </tr>\n",
       "    <tr>\n",
       "      <th>97</th>\n",
       "      <td>145.0</td>\n",
       "      <td>234.142057</td>\n",
       "    </tr>\n",
       "    <tr>\n",
       "      <th>101</th>\n",
       "      <td>218.0</td>\n",
       "      <td>384.645959</td>\n",
       "    </tr>\n",
       "    <tr>\n",
       "      <th>146</th>\n",
       "      <td>7.5</td>\n",
       "      <td>-160.019202</td>\n",
       "    </tr>\n",
       "    <tr>\n",
       "      <th>13</th>\n",
       "      <td>340.0</td>\n",
       "      <td>551.872263</td>\n",
       "    </tr>\n",
       "    <tr>\n",
       "      <th>152</th>\n",
       "      <td>9.9</td>\n",
       "      <td>-131.059055</td>\n",
       "    </tr>\n",
       "    <tr>\n",
       "      <th>76</th>\n",
       "      <td>70.0</td>\n",
       "      <td>35.448585</td>\n",
       "    </tr>\n",
       "    <tr>\n",
       "      <th>148</th>\n",
       "      <td>9.7</td>\n",
       "      <td>-138.081922</td>\n",
       "    </tr>\n",
       "    <tr>\n",
       "      <th>42</th>\n",
       "      <td>120.0</td>\n",
       "      <td>142.878208</td>\n",
       "    </tr>\n",
       "    <tr>\n",
       "      <th>20</th>\n",
       "      <td>575.0</td>\n",
       "      <td>633.191658</td>\n",
       "    </tr>\n",
       "    <tr>\n",
       "      <th>118</th>\n",
       "      <td>820.0</td>\n",
       "      <td>871.746522</td>\n",
       "    </tr>\n",
       "    <tr>\n",
       "      <th>29</th>\n",
       "      <td>1000.0</td>\n",
       "      <td>789.890896</td>\n",
       "    </tr>\n",
       "    <tr>\n",
       "      <th>34</th>\n",
       "      <td>950.0</td>\n",
       "      <td>871.414776</td>\n",
       "    </tr>\n",
       "    <tr>\n",
       "      <th>46</th>\n",
       "      <td>140.0</td>\n",
       "      <td>206.867062</td>\n",
       "    </tr>\n",
       "    <tr>\n",
       "      <th>39</th>\n",
       "      <td>120.0</td>\n",
       "      <td>178.541404</td>\n",
       "    </tr>\n",
       "  </tbody>\n",
       "</table>\n",
       "</div>"
      ],
      "text/plain": [
       "     Original weight  Pred_weight\n",
       "125           1100.0   898.401136\n",
       "139            770.0   669.451048\n",
       "5              450.0   451.420723\n",
       "12             500.0   520.445960\n",
       "83             115.0   128.907311\n",
       "124           1000.0   847.015867\n",
       "44             145.0   217.893171\n",
       "115            690.0   713.523173\n",
       "57             306.0   361.203193\n",
       "82             110.0   135.023364\n",
       "108            320.0   425.675268\n",
       "3              363.0   418.556517\n",
       "85             130.0   163.354074\n",
       "32             925.0   858.084623\n",
       "55             270.0   285.982665\n",
       "158             19.9   -76.218304\n",
       "112            685.0   724.365074\n",
       "4              430.0   453.535021\n",
       "25             725.0   654.902631\n",
       "111            840.0   772.061106\n",
       "22             620.0   616.599713\n",
       "79              80.0    95.457724\n",
       "33             975.0   878.435677\n",
       "10             475.0   537.078494\n",
       "67             170.0   249.188935\n",
       "134            456.0   568.708989\n",
       "81              85.0    87.657995\n",
       "136            540.0   602.685756\n",
       "40               0.0   171.114247\n",
       "47             160.0   239.158546\n",
       "17             700.0   596.785016\n",
       "71             300.0   421.354684\n",
       "127           1000.0   924.892600\n",
       "97             145.0   234.142057\n",
       "101            218.0   384.645959\n",
       "146              7.5  -160.019202\n",
       "13             340.0   551.872263\n",
       "152              9.9  -131.059055\n",
       "76              70.0    35.448585\n",
       "148              9.7  -138.081922\n",
       "42             120.0   142.878208\n",
       "20             575.0   633.191658\n",
       "118            820.0   871.746522\n",
       "29            1000.0   789.890896\n",
       "34             950.0   871.414776\n",
       "46             140.0   206.867062\n",
       "39             120.0   178.541404"
      ]
     },
     "execution_count": 187,
     "metadata": {},
     "output_type": "execute_result"
    }
   ],
   "source": [
    "d=pd.DataFrame({'Original weight':ytest,'Pred_weight': test_pred})\n",
    "d"
   ]
  },
  {
   "cell_type": "code",
   "execution_count": 189,
   "id": "94227017",
   "metadata": {},
   "outputs": [],
   "source": [
    "#on comparing the original and rough weight most of the values are like original weight < actual weight."
   ]
  }
 ],
 "metadata": {
  "kernelspec": {
   "display_name": "Python 3",
   "language": "python",
   "name": "python3"
  },
  "language_info": {
   "codemirror_mode": {
    "name": "ipython",
    "version": 3
   },
   "file_extension": ".py",
   "mimetype": "text/x-python",
   "name": "python",
   "nbconvert_exporter": "python",
   "pygments_lexer": "ipython3",
   "version": "3.8.8"
  }
 },
 "nbformat": 4,
 "nbformat_minor": 5
}
